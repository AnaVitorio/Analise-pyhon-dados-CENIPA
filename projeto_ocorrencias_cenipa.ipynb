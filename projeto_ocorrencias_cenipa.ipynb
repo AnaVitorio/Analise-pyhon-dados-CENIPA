{
 "cells": [
  {
   "cell_type": "markdown",
   "metadata": {},
   "source": [
    "# Fundamentos de ETL com Python\n",
    "\n",
    "Para esse projeto foi utilizado uma base de dados do CENIPA."
   ]
  },
  {
   "cell_type": "markdown",
   "metadata": {},
   "source": [
    "A base de dados de ocorrências aeronáuticas é gerenciada pelo **Centro de Investigação e Prevenção de Acidentes Aeronáuticos (CENIPA)**. Constam nesta base de dados as ocorrências aeronáuticas notificadas ao CENIPA nos últimos 10 anos e que ocorreram em solo brasileiro.\n",
    "\n",
    "Dentre as informações disponíveis estão os dados sobre as aeronaves envolvidas, fatalidades, local, data, horário dos eventos e informações taxonômicas típicas das investigações de acidentes (AIG). São resguardadas a privacidade de pessoas físicas/jurídicas envolvidas conforme previsto pela Lei de Acesso à Informação (Lei n° 12.527, de 18 de novembro de 2011).\n",
    "\n",
    "Essa base de dados é composta por informações preliminares provenientes do formulário CENIPA-05 (Ficha de Notificação de Ocorrências Aeronáuticas) e consolidada a partir dos relatórios de investigações publicados. Outra forma de visualização desses dados é pelo Painel SIPAER disponível na página do CENIPA.\n",
    "\n",
    "https://dados.gov.br/dataset/ocorrencias-aeronauticas-da-aviacao-civil-brasileira\n",
    "\n",
    "\n",
    "\n"
   ]
  },
  {
   "cell_type": "markdown",
   "metadata": {},
   "source": [
    "## Extração"
   ]
  },
  {
   "cell_type": "markdown",
   "metadata": {},
   "source": [
    "A extração da base utilizada foi feita por meio do site do CENIPA, diponível no link a baixo:\n",
    "* https://dados.gov.br/dataset/ocorrencias-aeronauticas-da-aviacao-civil-brasileira\n",
    "\n",
    "Na secção de Dados e Recursos a Tabela ocorrências pode ser baixada, assim como outras tabelas\n"
   ]
  },
  {
   "cell_type": "markdown",
   "metadata": {},
   "source": [
    "### Bibliotecas"
   ]
  },
  {
   "cell_type": "markdown",
   "metadata": {},
   "source": [
    "Para quem ainda não possuir o pandera instalado é só utilizar o comando: **pip install pandera**"
   ]
  },
  {
   "cell_type": "markdown",
   "metadata": {},
   "source": [
    "O pandera fornece uma API flexível e expressiva para realizar a validação de dados em dados organizados (longos) e amplos para tornar os pipelines de processamento de dados mais legíveis e robustos."
   ]
  },
  {
   "cell_type": "code",
   "execution_count": 1,
   "metadata": {},
   "outputs": [],
   "source": [
    "#Bibliotecas\n",
    "import pandas as pd\n",
    "import pandera as pa\n",
    "import matplotlib.pyplot as plt"
   ]
  },
  {
   "cell_type": "markdown",
   "metadata": {},
   "source": [
    "Antes do carregamento do arquivo algumas colunas foram previamente excluidas em um editor de planilhas.\n",
    "* codigo_ocorrencia1;\n",
    "* codigo_ocorrencia3;\n",
    "* codigo_ocorrencia4;\n",
    "* ocorrencia_latitude;\n",
    "* ocorrencia_longitude;\n",
    "* ocorrencia_pais;\n",
    "* investigacao_aeronave_liberada;\n",
    "* investigacao_status;\n",
    "* divulgacao_relatorio_numero;\n",
    "* divulgacao_relatorio_publicado;\n",
    "* divulgacao_dia_publicacao;\n",
    "* total_aeronaves_envolvidas;\n",
    "* ocorrencia_saida_pista;\n",
    "\n",
    "Essas colunas poderiam ter sidos carregadas no dataframe e depois exluidas por meio de código:\n",
    "\n",
    "```\n",
    "colunas_remove = ['codigo_ocorrencia1',\n",
    "                    'codigo_ocorrencia3',\n",
    "                    'codigo_ocorrencia4',\n",
    "                    'ocorrencia_latitude',\n",
    "                    'ocorrencia_longitude',\n",
    "                    'ocorrencia_pais',\n",
    "                    'investigacao_aeronave_liberada',\n",
    "                    'investigacao_status',\n",
    "                    'divulgacao_relatorio_numero',\n",
    "                    'divulgacao_relatorio_publicado',\n",
    "                    'divulgacao_dia_publicacao',\n",
    "                    'total_aeronaves_envolvidas',\n",
    "                    'ocorrencia_saida_pista']\n",
    "                    \n",
    "df = df.drop(columns=colunas_remove, inplace=True)\n",
    "```"
   ]
  },
  {
   "cell_type": "markdown",
   "metadata": {},
   "source": [
    "**Observações:**"
   ]
  },
  {
   "cell_type": "markdown",
   "metadata": {},
   "source": [
    "* **parse_dates:** permite passar uma lista de colunas que devem ser intepretadas como data - o arquivo veio a data como tipo object. Se alguma data estiver com formato incorreto, o parse não vai conseguir transformar a coluna em DateTime e ela continuará como object. Para evitar que esse tipo de erro possa passar na etapa de validação do dados, foi utilizada a criação de um esquema de validação das colunas com o pandera.\n",
    "\n",
    "\n",
    "* **dayfirts** -> o primeiro valor da data é o dia -> o aquivo veio com o dia no lugar do mês.\n",
    "\n",
    "\n",
    "* **NaT** -> quando a data não existe no arquivo -> vazio. É como se fosse o NaN porém só aparece em datas."
   ]
  },
  {
   "cell_type": "code",
   "execution_count": 2,
   "metadata": {},
   "outputs": [],
   "source": [
    "#carregamento do arquivo csv\n",
    "df = pd.read_csv('ocorrencia_2010_2020 - ocorrencia_2010_2020.csv', parse_dates=['ocorrencia_dia'], dayfirst=True)"
   ]
  },
  {
   "cell_type": "markdown",
   "metadata": {},
   "source": [
    "Se já for de conhecimento quais são os valores considerados ausentes é possível fazer a substituição desses valores diretamente no read_csv, utilizando o parâmetro **na_values** passando uma lista com os valores ausentes.\n",
    "\n",
    "Para esse conjunto de dados se a linha a baixo for executada será necessario fazer modificações na etapa de validação."
   ]
  },
  {
   "cell_type": "code",
   "execution_count": 3,
   "metadata": {},
   "outputs": [],
   "source": [
    "#valores_ausentes = ['**','****', '*****', '###!', '####', 'NULL']\n",
    "#df = pd.read_csv('ocorrencia_2010_2020 - ocorrencia_2010_2020.csv', parse_dates=['ocorrencia_dia'], dayfirst=True, na_values=valores_ausentes)"
   ]
  },
  {
   "cell_type": "code",
   "execution_count": 4,
   "metadata": {},
   "outputs": [
    {
     "data": {
      "text/html": [
       "<div>\n",
       "<style scoped>\n",
       "    .dataframe tbody tr th:only-of-type {\n",
       "        vertical-align: middle;\n",
       "    }\n",
       "\n",
       "    .dataframe tbody tr th {\n",
       "        vertical-align: top;\n",
       "    }\n",
       "\n",
       "    .dataframe thead th {\n",
       "        text-align: right;\n",
       "    }\n",
       "</style>\n",
       "<table border=\"1\" class=\"dataframe\">\n",
       "  <thead>\n",
       "    <tr style=\"text-align: right;\">\n",
       "      <th></th>\n",
       "      <th>codigo_ocorrencia</th>\n",
       "      <th>codigo_ocorrencia2</th>\n",
       "      <th>ocorrencia_classificacao</th>\n",
       "      <th>ocorrencia_cidade</th>\n",
       "      <th>ocorrencia_uf</th>\n",
       "      <th>ocorrencia_aerodromo</th>\n",
       "      <th>ocorrencia_dia</th>\n",
       "      <th>ocorrencia_hora</th>\n",
       "      <th>total_recomendacoes</th>\n",
       "    </tr>\n",
       "  </thead>\n",
       "  <tbody>\n",
       "    <tr>\n",
       "      <th>0</th>\n",
       "      <td>40211</td>\n",
       "      <td>40211</td>\n",
       "      <td>INCIDENTE</td>\n",
       "      <td>RIO DE JANEIRO</td>\n",
       "      <td>RJ</td>\n",
       "      <td>****</td>\n",
       "      <td>2010-01-03</td>\n",
       "      <td>12:00:00</td>\n",
       "      <td>0</td>\n",
       "    </tr>\n",
       "    <tr>\n",
       "      <th>1</th>\n",
       "      <td>40349</td>\n",
       "      <td>40349</td>\n",
       "      <td>INCIDENTE</td>\n",
       "      <td>BELÉM</td>\n",
       "      <td>PA</td>\n",
       "      <td>SBBE</td>\n",
       "      <td>2010-01-03</td>\n",
       "      <td>11:05:00</td>\n",
       "      <td>0</td>\n",
       "    </tr>\n",
       "    <tr>\n",
       "      <th>2</th>\n",
       "      <td>40351</td>\n",
       "      <td>40351</td>\n",
       "      <td>INCIDENTE</td>\n",
       "      <td>RIO DE JANEIRO</td>\n",
       "      <td>RJ</td>\n",
       "      <td>SBRJ</td>\n",
       "      <td>2010-01-03</td>\n",
       "      <td>03:00:00</td>\n",
       "      <td>0</td>\n",
       "    </tr>\n",
       "    <tr>\n",
       "      <th>3</th>\n",
       "      <td>39527</td>\n",
       "      <td>39527</td>\n",
       "      <td>ACIDENTE</td>\n",
       "      <td>LUCAS DO RIO VERDE</td>\n",
       "      <td>MT</td>\n",
       "      <td>****</td>\n",
       "      <td>2010-01-04</td>\n",
       "      <td>17:30:00</td>\n",
       "      <td>0</td>\n",
       "    </tr>\n",
       "    <tr>\n",
       "      <th>4</th>\n",
       "      <td>40324</td>\n",
       "      <td>40324</td>\n",
       "      <td>INCIDENTE</td>\n",
       "      <td>PELOTAS</td>\n",
       "      <td>RS</td>\n",
       "      <td>SBPK</td>\n",
       "      <td>2010-01-05</td>\n",
       "      <td>19:25:00</td>\n",
       "      <td>0</td>\n",
       "    </tr>\n",
       "    <tr>\n",
       "      <th>5</th>\n",
       "      <td>39807</td>\n",
       "      <td>39807</td>\n",
       "      <td>INCIDENTE</td>\n",
       "      <td>SALVADOR</td>\n",
       "      <td>BA</td>\n",
       "      <td>****</td>\n",
       "      <td>2010-01-06</td>\n",
       "      <td>17:53:00</td>\n",
       "      <td>0</td>\n",
       "    </tr>\n",
       "    <tr>\n",
       "      <th>6</th>\n",
       "      <td>40215</td>\n",
       "      <td>40215</td>\n",
       "      <td>INCIDENTE</td>\n",
       "      <td>COARI</td>\n",
       "      <td>AM</td>\n",
       "      <td>SBUY</td>\n",
       "      <td>2010-01-07</td>\n",
       "      <td>18:40:00</td>\n",
       "      <td>0</td>\n",
       "    </tr>\n",
       "    <tr>\n",
       "      <th>7</th>\n",
       "      <td>39707</td>\n",
       "      <td>39707</td>\n",
       "      <td>INCIDENTE GRAVE</td>\n",
       "      <td>CANUTAMA</td>\n",
       "      <td>AM</td>\n",
       "      <td>****</td>\n",
       "      <td>2010-01-09</td>\n",
       "      <td>12:30:00</td>\n",
       "      <td>3</td>\n",
       "    </tr>\n",
       "    <tr>\n",
       "      <th>8</th>\n",
       "      <td>39156</td>\n",
       "      <td>39156</td>\n",
       "      <td>INCIDENTE GRAVE</td>\n",
       "      <td>CASCAVEL</td>\n",
       "      <td>PR</td>\n",
       "      <td>SBCA</td>\n",
       "      <td>2010-01-10</td>\n",
       "      <td>23:15:00</td>\n",
       "      <td>2</td>\n",
       "    </tr>\n",
       "    <tr>\n",
       "      <th>9</th>\n",
       "      <td>39711</td>\n",
       "      <td>39711</td>\n",
       "      <td>INCIDENTE GRAVE</td>\n",
       "      <td>PARÁ DE MINAS</td>\n",
       "      <td>MG</td>\n",
       "      <td>****</td>\n",
       "      <td>2010-01-10</td>\n",
       "      <td>20:00:00</td>\n",
       "      <td>0</td>\n",
       "    </tr>\n",
       "  </tbody>\n",
       "</table>\n",
       "</div>"
      ],
      "text/plain": [
       "   codigo_ocorrencia  codigo_ocorrencia2 ocorrencia_classificacao  \\\n",
       "0              40211               40211                INCIDENTE   \n",
       "1              40349               40349                INCIDENTE   \n",
       "2              40351               40351                INCIDENTE   \n",
       "3              39527               39527                 ACIDENTE   \n",
       "4              40324               40324                INCIDENTE   \n",
       "5              39807               39807                INCIDENTE   \n",
       "6              40215               40215                INCIDENTE   \n",
       "7              39707               39707          INCIDENTE GRAVE   \n",
       "8              39156               39156          INCIDENTE GRAVE   \n",
       "9              39711               39711          INCIDENTE GRAVE   \n",
       "\n",
       "    ocorrencia_cidade ocorrencia_uf ocorrencia_aerodromo ocorrencia_dia  \\\n",
       "0      RIO DE JANEIRO            RJ                 ****     2010-01-03   \n",
       "1               BELÉM            PA                 SBBE     2010-01-03   \n",
       "2      RIO DE JANEIRO            RJ                 SBRJ     2010-01-03   \n",
       "3  LUCAS DO RIO VERDE            MT                 ****     2010-01-04   \n",
       "4             PELOTAS            RS                 SBPK     2010-01-05   \n",
       "5            SALVADOR            BA                 ****     2010-01-06   \n",
       "6               COARI            AM                 SBUY     2010-01-07   \n",
       "7            CANUTAMA            AM                 ****     2010-01-09   \n",
       "8            CASCAVEL            PR                 SBCA     2010-01-10   \n",
       "9       PARÁ DE MINAS            MG                 ****     2010-01-10   \n",
       "\n",
       "  ocorrencia_hora  total_recomendacoes  \n",
       "0        12:00:00                    0  \n",
       "1        11:05:00                    0  \n",
       "2        03:00:00                    0  \n",
       "3        17:30:00                    0  \n",
       "4        19:25:00                    0  \n",
       "5        17:53:00                    0  \n",
       "6        18:40:00                    0  \n",
       "7        12:30:00                    3  \n",
       "8        23:15:00                    2  \n",
       "9        20:00:00                    0  "
      ]
     },
     "execution_count": 4,
     "metadata": {},
     "output_type": "execute_result"
    }
   ],
   "source": [
    "df.head(10)"
   ]
  },
  {
   "cell_type": "markdown",
   "metadata": {},
   "source": [
    "## Montando um schema de validação com o pandera\n",
    "\n",
    "Validação de todas as colunas\n",
    "* **Exemplo:** Validando se a coluna codigo_ocorrencia tem valores inteiros\n",
    "\n",
    "Foi colocado uma restrição na coluna ocorrencia_hora, utilizando uma expressão regular, para estabelecer um formato de 24 horas.\n",
    "\n",
    "Foi validado o tamanho da string na coluna ocorrencia_uf - Tamanho mínimo 2 e máximo 2 caracteres.\n",
    "\n",
    "Se acontecer de um coluna as vezes vir outras não, é possível passar o parâmetro required=False\n",
    "* **Exemplo:** A coluna codigo pode vir ou não no df, por isso foi passado o parâmetro required = False, o padrão é True.\n",
    " ```\n",
    " \"codigo\":pa.Column(pa.Int, required=False)\n",
    " \n",
    " ```\n",
    " "
   ]
  },
  {
   "cell_type": "code",
   "execution_count": 5,
   "metadata": {},
   "outputs": [],
   "source": [
    "schema = pa.DataFrameSchema(\n",
    "    columns = {\n",
    "        \"codigo_ocorrencia\":pa.Column(pa.Int),\n",
    "        \"codigo_ocorrencia2\":pa.Column(pa.Int),\n",
    "        \"ocorrencia_classificacao\":pa.Column(pa.String),\n",
    "        \"ocorrencia_cidade\":pa.Column(pa.String),\n",
    "        \"ocorrencia_uf\":pa.Column(pa.String, pa.Check.str_length(2,2)),\n",
    "        \"ocorrencia_aerodromo\":pa.Column(pa.String),\n",
    "        \"ocorrencia_dia\":pa.Column(pa.DateTime),\n",
    "        \"ocorrencia_hora\":pa.Column(pa.String, pa.Check.str_matches(r'^([0-1]?[0-9]|[2][0-3]):([0-5][0-9])(:[0-5][0-9])?$'), nullable=True),\n",
    "        \"total_recomendacoes\":pa.Column(pa.Int),\n",
    "        \n",
    "    }\n",
    ")"
   ]
  },
  {
   "cell_type": "code",
   "execution_count": 6,
   "metadata": {},
   "outputs": [
    {
     "data": {
      "text/html": [
       "<div>\n",
       "<style scoped>\n",
       "    .dataframe tbody tr th:only-of-type {\n",
       "        vertical-align: middle;\n",
       "    }\n",
       "\n",
       "    .dataframe tbody tr th {\n",
       "        vertical-align: top;\n",
       "    }\n",
       "\n",
       "    .dataframe thead th {\n",
       "        text-align: right;\n",
       "    }\n",
       "</style>\n",
       "<table border=\"1\" class=\"dataframe\">\n",
       "  <thead>\n",
       "    <tr style=\"text-align: right;\">\n",
       "      <th></th>\n",
       "      <th>codigo_ocorrencia</th>\n",
       "      <th>codigo_ocorrencia2</th>\n",
       "      <th>ocorrencia_classificacao</th>\n",
       "      <th>ocorrencia_cidade</th>\n",
       "      <th>ocorrencia_uf</th>\n",
       "      <th>ocorrencia_aerodromo</th>\n",
       "      <th>ocorrencia_dia</th>\n",
       "      <th>ocorrencia_hora</th>\n",
       "      <th>total_recomendacoes</th>\n",
       "    </tr>\n",
       "  </thead>\n",
       "  <tbody>\n",
       "    <tr>\n",
       "      <th>0</th>\n",
       "      <td>40211</td>\n",
       "      <td>40211</td>\n",
       "      <td>INCIDENTE</td>\n",
       "      <td>RIO DE JANEIRO</td>\n",
       "      <td>RJ</td>\n",
       "      <td>****</td>\n",
       "      <td>2010-01-03</td>\n",
       "      <td>12:00:00</td>\n",
       "      <td>0</td>\n",
       "    </tr>\n",
       "    <tr>\n",
       "      <th>1</th>\n",
       "      <td>40349</td>\n",
       "      <td>40349</td>\n",
       "      <td>INCIDENTE</td>\n",
       "      <td>BELÉM</td>\n",
       "      <td>PA</td>\n",
       "      <td>SBBE</td>\n",
       "      <td>2010-01-03</td>\n",
       "      <td>11:05:00</td>\n",
       "      <td>0</td>\n",
       "    </tr>\n",
       "    <tr>\n",
       "      <th>2</th>\n",
       "      <td>40351</td>\n",
       "      <td>40351</td>\n",
       "      <td>INCIDENTE</td>\n",
       "      <td>RIO DE JANEIRO</td>\n",
       "      <td>RJ</td>\n",
       "      <td>SBRJ</td>\n",
       "      <td>2010-01-03</td>\n",
       "      <td>03:00:00</td>\n",
       "      <td>0</td>\n",
       "    </tr>\n",
       "    <tr>\n",
       "      <th>3</th>\n",
       "      <td>39527</td>\n",
       "      <td>39527</td>\n",
       "      <td>ACIDENTE</td>\n",
       "      <td>LUCAS DO RIO VERDE</td>\n",
       "      <td>MT</td>\n",
       "      <td>****</td>\n",
       "      <td>2010-01-04</td>\n",
       "      <td>17:30:00</td>\n",
       "      <td>0</td>\n",
       "    </tr>\n",
       "    <tr>\n",
       "      <th>4</th>\n",
       "      <td>40324</td>\n",
       "      <td>40324</td>\n",
       "      <td>INCIDENTE</td>\n",
       "      <td>PELOTAS</td>\n",
       "      <td>RS</td>\n",
       "      <td>SBPK</td>\n",
       "      <td>2010-01-05</td>\n",
       "      <td>19:25:00</td>\n",
       "      <td>0</td>\n",
       "    </tr>\n",
       "    <tr>\n",
       "      <th>...</th>\n",
       "      <td>...</td>\n",
       "      <td>...</td>\n",
       "      <td>...</td>\n",
       "      <td>...</td>\n",
       "      <td>...</td>\n",
       "      <td>...</td>\n",
       "      <td>...</td>\n",
       "      <td>...</td>\n",
       "      <td>...</td>\n",
       "    </tr>\n",
       "    <tr>\n",
       "      <th>5747</th>\n",
       "      <td>79804</td>\n",
       "      <td>79804</td>\n",
       "      <td>INCIDENTE</td>\n",
       "      <td>CAMPINAS</td>\n",
       "      <td>SP</td>\n",
       "      <td>SBKP</td>\n",
       "      <td>2020-12-29</td>\n",
       "      <td>19:00:00</td>\n",
       "      <td>0</td>\n",
       "    </tr>\n",
       "    <tr>\n",
       "      <th>5748</th>\n",
       "      <td>79757</td>\n",
       "      <td>79757</td>\n",
       "      <td>INCIDENTE GRAVE</td>\n",
       "      <td>LAGOA DA CONFUSÃO</td>\n",
       "      <td>TO</td>\n",
       "      <td>****</td>\n",
       "      <td>2020-12-30</td>\n",
       "      <td>18:30:00</td>\n",
       "      <td>0</td>\n",
       "    </tr>\n",
       "    <tr>\n",
       "      <th>5749</th>\n",
       "      <td>79802</td>\n",
       "      <td>79802</td>\n",
       "      <td>INCIDENTE</td>\n",
       "      <td>RIO DE JANEIRO</td>\n",
       "      <td>RJ</td>\n",
       "      <td>SBGL</td>\n",
       "      <td>2020-12-30</td>\n",
       "      <td>00:54:00</td>\n",
       "      <td>0</td>\n",
       "    </tr>\n",
       "    <tr>\n",
       "      <th>5750</th>\n",
       "      <td>79756</td>\n",
       "      <td>79756</td>\n",
       "      <td>INCIDENTE GRAVE</td>\n",
       "      <td>VICENTINA</td>\n",
       "      <td>MS</td>\n",
       "      <td>****</td>\n",
       "      <td>2020-12-31</td>\n",
       "      <td>09:00:00</td>\n",
       "      <td>0</td>\n",
       "    </tr>\n",
       "    <tr>\n",
       "      <th>5751</th>\n",
       "      <td>79844</td>\n",
       "      <td>79844</td>\n",
       "      <td>INCIDENTE</td>\n",
       "      <td>RIO DE JANEIRO</td>\n",
       "      <td>RJ</td>\n",
       "      <td>SBJR</td>\n",
       "      <td>2020-12-31</td>\n",
       "      <td>13:24:00</td>\n",
       "      <td>0</td>\n",
       "    </tr>\n",
       "  </tbody>\n",
       "</table>\n",
       "<p>5752 rows × 9 columns</p>\n",
       "</div>"
      ],
      "text/plain": [
       "      codigo_ocorrencia  codigo_ocorrencia2 ocorrencia_classificacao  \\\n",
       "0                 40211               40211                INCIDENTE   \n",
       "1                 40349               40349                INCIDENTE   \n",
       "2                 40351               40351                INCIDENTE   \n",
       "3                 39527               39527                 ACIDENTE   \n",
       "4                 40324               40324                INCIDENTE   \n",
       "...                 ...                 ...                      ...   \n",
       "5747              79804               79804                INCIDENTE   \n",
       "5748              79757               79757          INCIDENTE GRAVE   \n",
       "5749              79802               79802                INCIDENTE   \n",
       "5750              79756               79756          INCIDENTE GRAVE   \n",
       "5751              79844               79844                INCIDENTE   \n",
       "\n",
       "       ocorrencia_cidade ocorrencia_uf ocorrencia_aerodromo ocorrencia_dia  \\\n",
       "0         RIO DE JANEIRO            RJ                 ****     2010-01-03   \n",
       "1                  BELÉM            PA                 SBBE     2010-01-03   \n",
       "2         RIO DE JANEIRO            RJ                 SBRJ     2010-01-03   \n",
       "3     LUCAS DO RIO VERDE            MT                 ****     2010-01-04   \n",
       "4                PELOTAS            RS                 SBPK     2010-01-05   \n",
       "...                  ...           ...                  ...            ...   \n",
       "5747            CAMPINAS            SP                 SBKP     2020-12-29   \n",
       "5748   LAGOA DA CONFUSÃO            TO                 ****     2020-12-30   \n",
       "5749      RIO DE JANEIRO            RJ                 SBGL     2020-12-30   \n",
       "5750           VICENTINA            MS                 ****     2020-12-31   \n",
       "5751      RIO DE JANEIRO            RJ                 SBJR     2020-12-31   \n",
       "\n",
       "     ocorrencia_hora  total_recomendacoes  \n",
       "0           12:00:00                    0  \n",
       "1           11:05:00                    0  \n",
       "2           03:00:00                    0  \n",
       "3           17:30:00                    0  \n",
       "4           19:25:00                    0  \n",
       "...              ...                  ...  \n",
       "5747        19:00:00                    0  \n",
       "5748        18:30:00                    0  \n",
       "5749        00:54:00                    0  \n",
       "5750        09:00:00                    0  \n",
       "5751        13:24:00                    0  \n",
       "\n",
       "[5752 rows x 9 columns]"
      ]
     },
     "execution_count": 6,
     "metadata": {},
     "output_type": "execute_result"
    }
   ],
   "source": [
    "# validação do df com base no schema acima\n",
    "schema.validate(df)"
   ]
  },
  {
   "cell_type": "markdown",
   "metadata": {},
   "source": [
    "## Limpeza dos Dados\n",
    "\n",
    "Dados faltantes em ocorrencia_aerodromo -> (********); (5*); (###!); (####)\n",
    "\n",
    "Dados faltantes em ocorrencia_uf -> **\n",
    "\n",
    "Dados faltantes em ocorrencia_hora -> NULL"
   ]
  },
  {
   "cell_type": "code",
   "execution_count": 7,
   "metadata": {},
   "outputs": [
    {
     "data": {
      "text/plain": [
       "array(['****', 'SBBE', 'SBRJ', 'SBPK', 'SBUY', 'SBCA', 'SBMT', 'SBBR',\n",
       "       'SNGU', 'SBGL', 'SBCZ', 'SBPF', 'SBBI', 'SBGR', 'SBPJ', 'SBJC',\n",
       "       'SBFL', 'SNCL', 'SBGO', 'SNTY', 'SBSR', 'SBVT', 'SBPC', 'SBSV',\n",
       "       'SBCT', 'SBCY', 'SWLC', 'SBJR', 'SBEG', 'SBPR', 'SBLO', 'SBRB',\n",
       "       'SBSM', 'SSBL', 'SBMK', 'SBSP', 'SBCF', 'SBUL', 'SWUZ', 'SWNS',\n",
       "       'SBFZ', 'SNVR', 'SBPN', 'SSUV', 'SBKP', 'SWNV', 'SBSJ', 'SBML',\n",
       "       'SBPA', 'SBME', 'SDPY', 'SWOZ', 'SNEM', 'SBBH', 'SJCY', 'SBSL',\n",
       "       'SBMA', 'SWKC', 'SBMO', 'SBJD', 'SDAM', 'SBCJ', 'SNUZ', 'SBPS',\n",
       "       'SBJV', 'SNFX', 'SBPL', 'SWXV', 'SBAR', 'SBNF', 'SBRF', 'SSZW',\n",
       "       'SWRD', 'SWLV', 'SSGP', 'SDOI', 'SBAE', 'SNDV', 'SSKS', 'SBMG',\n",
       "       'SBQV', 'SBIP', 'SBAT', 'SWFR', 'SBBV', 'SBJP', 'SSVN', 'SSPS',\n",
       "       'SDPW', 'SBSN', 'SNDT', 'SSKZ', 'SBUR', 'SBTE', '*****', 'SBBU',\n",
       "       'SNXT', 'SBRP', 'SSCF', 'SSIE', 'SBCG', 'SBAQ', 'SBIZ', 'SBBP',\n",
       "       'SSOG', 'SIXE', 'SNPC', '###!', 'SNWS', 'SNAU', 'SDLO', 'SNGG',\n",
       "       'SBNT', 'SWDC', 'SWUI', 'SDJA', 'SDTK', 'SBNM', 'SDKE', 'SNRU',\n",
       "       '####', 'SBAU', 'SDAA', 'SBHT', 'SBCP', 'SDIO', 'SWJW', 'SNFJ',\n",
       "       'SBUF', 'SSTH', 'SBRD', 'SSNH', 'SBTK', 'SDET', 'SDVE', 'SSSC',\n",
       "       'SWRO', 'SBIL', 'SDTB', 'SSKT', 'SNJO', 'SNIG', 'SBCB', 'SDOR',\n",
       "       'SWNO', 'SDCO', 'SWFN', 'SNPD', 'SDBB', 'SWCA', 'SDMC', 'SSNG',\n",
       "       'SIBX', 'SNDR', 'SJHG', 'SIRS', 'SIPO', 'SDBV', 'SJTO', 'SSER',\n",
       "       'SSBN', 'SDAI', 'SNWC', 'SDVH', 'SNOD', 'SBBW', 'SWXQ', 'SBBZ',\n",
       "       'SNOF', 'SSKG', 'SBGW', 'SBMQ', 'SSXO', 'SNTF', 'SWMV', 'SSCR',\n",
       "       'SNAZ', 'SDBK', 'SBTD', 'SDBN', 'SDTF', 'SDRK', 'SJHR', 'SWEK',\n",
       "       'SIQE', 'SSOS', 'SBFI', 'SILT', 'SSDO', 'SSNB', 'SBMS', 'SWKO',\n",
       "       'SNKB', 'SBDN', 'SDXF', 'SNDH', 'SJPT', 'SSOK', 'SSHS', 'SSSB',\n",
       "       'SBTF', 'SDCD', 'SNKE', 'SNGV', 'SWYH', 'SSCE', 'SNYE', 'SNHH',\n",
       "       'SDMV', 'SWPY', 'SBJF', 'SNSW', 'SJDU', 'SSRZ', 'SBPP', 'SDIH',\n",
       "       'SBLJ', 'SSQZ', 'SDNE', 'SDRS', 'SBMY', 'SWCZ', 'SSAQ', 'SDIP',\n",
       "       'SIPU', 'SDUB', 'SNAG', 'SNCJ', 'SSDP', 'SBPV', 'SDDQ', 'SBMD',\n",
       "       'SWOB', 'SNXI', 'SSKK', 'SWSI', 'SSKM', 'SWBB', 'SBVH', 'SWNB',\n",
       "       'SDIM', 'SJOG', 'SDHU', 'SSAK', 'SWPI', 'SBTR', 'SION', 'SJRG',\n",
       "       'SWGP', 'SSTL', 'SWEN', 'SDPN', 'SDVL', 'SSCN', 'SWTS', 'SSQT',\n",
       "       'SBFS', 'SNGA', 'SDJL', 'SDDN', 'SDEN', 'SNKI', 'SIVU', 'SDLL',\n",
       "       'SNVB', 'SJFU', 'SSJI', 'SJVO', 'SNKF', 'SSLT', 'SDJB', 'SBTT',\n",
       "       'SBVG', 'SSAY', 'SDVI', 'SBFN', 'SSCT', 'SDHP', 'SSKW', 'SSPL',\n",
       "       'SJNP', 'SWJN', 'SDYW', 'SDTI', 'SNBG', 'SSPG', 'SSIQ', 'SNXR',\n",
       "       'SNMU', 'SBCX', 'SBST', 'SNUN', 'SDMJ', 'SDBA', 'SJLO', 'SWGN',\n",
       "       'SNXW', 'SSPQ', 'SIFH', 'SNPJ', 'SNKK', 'SNBR', 'SJBY', 'SBAN',\n",
       "       'SWNH', 'SSIJ', 'SIJG', 'SWUQ', 'SDRE', 'SSRS', 'SDAG', 'SDED',\n",
       "       'SNDC', 'SWPD', 'SNFE', 'SBKG', 'SWEI', 'SDWV', 'SNBO', 'SSPX',\n",
       "       'SIFC', 'SBJU', 'SSCP', 'SNMX', 'SSAC', 'SBUA', 'SNHE', 'SDJC',\n",
       "       'SJLY', 'SSAU', 'SNCW', 'SJYR', 'SDEH', 'SWMW', 'SNPA', 'SWBE',\n",
       "       'SNOG', 'SDEM', 'SDJO', 'SJQN', 'SIBH', 'SDOW', 'SDMM', 'SBGV',\n",
       "       'SNVC', 'SIPY', 'SBCR', 'SSOL', 'SNJD', 'SDMH', 'SNHB', 'SNMH',\n",
       "       'SBEK', 'SSZR', 'SDWC', 'SNBS', 'SSGA', 'SWMO', 'SSBG', 'SSSS',\n",
       "       'SSPV', 'SSGB', 'SIMB', 'SWPA', 'SDWU', 'SNSG', 'SIKC', 'SWQI',\n",
       "       'SDSC', 'SBFE', 'SDIG', 'SDYF', 'SWAQ', 'SNYS', 'SWIT', 'SBTV',\n",
       "       'SISY', 'SNVS', 'SNPX', 'SNQV', 'SNBA', 'SNSH', 'SBJA', 'SDZX',\n",
       "       'SBSG', 'SDPG', 'SWLB', '9PAA', 'SNJN', 'SSQI', 'SBBQ', 'SIFV',\n",
       "       'SIRI', 'SDVG', 'SBTA', 'SIQK', 'SING', 'SSJA', 'SSPB', 'SNYR',\n",
       "       'SDNH', 'SNLO', 'SSSZ', 'SNMD', 'SJNQ', 'SNCX', 'SWRZ', '9PFC',\n",
       "       'SWPQ', 'SIQH', 'SSSE', 'SDLZ', 'SNZA', 'SIXD', 'SSBR', 'SSCL',\n",
       "       '9PFX', 'SWIN', 'SNNL', 'SSPI', 'SJAH', 'SJLU', 'SSJL', 'SSFB',\n",
       "       'SDNI', 'SWNK', 'SNTO', 'SDNB', 'SBLE', 'SDEE', 'SNYP', 'SWKT',\n",
       "       'SWSL', 'SWGC', 'SBIH', 'SDKH', 'SBJI', 'SNCT', 'SDTO', 'SJFM',\n",
       "       'SSFC', 'SNFS', '5JTI', 'SJXM', 'SWVZ', 'SWVR', 'SNKH', 'SSGX',\n",
       "       'SWVI', 'SSNV', 'SWEJ', 'SBGP', 'SNDP', 'SBPB', 'SJWQ', 'SSZL',\n",
       "       'SWUV', 'SNGQ', 'SJBM', 'SWEF', 'SNPY', 'SWHP', 'SIPB', 'SNGS',\n",
       "       'SDPA', '9PHD', 'SSMH', 'SNJI', 'SNDU', 'SNGX', 'SNJR', 'SIJY',\n",
       "       'SSMW', 'SNMA', 'SWJP', 'SNCV', 'SDQG', 'SWFV', 'SSCK', 'SWVC',\n",
       "       'SNME', 'SNJK', 'SJBH', 'SWYV', 'SSUB', 'SWEW', 'SILC', 'SDGR',\n",
       "       'SNQX', 'SNEJ', 'SWMZ', 'SSVA', 'SWFX', 'SIBO', 'SDVK', 'SNIZ',\n",
       "       'SDVO', 'SNLF', 'SDLY', 'SJVL', 'SBIT', 'SJYG', 'SIVQ', 'SSGG',\n",
       "       'SJIF', 'SDRV', 'SWGI', 'SWON', '9PSD', 'SNAL', 'SDYJ', 'SSDK',\n",
       "       'SNAS', 'SSUL', 'SNRP'], dtype=object)"
      ]
     },
     "execution_count": 7,
     "metadata": {},
     "output_type": "execute_result"
    }
   ],
   "source": [
    "#todos os valores únicos para a coluna ocorrencia_aerodromo\n",
    "df['ocorrencia_aerodromo'].unique()"
   ]
  },
  {
   "cell_type": "code",
   "execution_count": 8,
   "metadata": {},
   "outputs": [
    {
     "data": {
      "text/html": [
       "<div>\n",
       "<style scoped>\n",
       "    .dataframe tbody tr th:only-of-type {\n",
       "        vertical-align: middle;\n",
       "    }\n",
       "\n",
       "    .dataframe tbody tr th {\n",
       "        vertical-align: top;\n",
       "    }\n",
       "\n",
       "    .dataframe thead th {\n",
       "        text-align: right;\n",
       "    }\n",
       "</style>\n",
       "<table border=\"1\" class=\"dataframe\">\n",
       "  <thead>\n",
       "    <tr style=\"text-align: right;\">\n",
       "      <th></th>\n",
       "      <th>codigo_ocorrencia</th>\n",
       "      <th>codigo_ocorrencia2</th>\n",
       "      <th>ocorrencia_classificacao</th>\n",
       "      <th>ocorrencia_cidade</th>\n",
       "      <th>ocorrencia_uf</th>\n",
       "      <th>ocorrencia_aerodromo</th>\n",
       "      <th>ocorrencia_dia</th>\n",
       "      <th>ocorrencia_hora</th>\n",
       "      <th>total_recomendacoes</th>\n",
       "    </tr>\n",
       "  </thead>\n",
       "  <tbody>\n",
       "    <tr>\n",
       "      <th>0</th>\n",
       "      <td>40211</td>\n",
       "      <td>40211</td>\n",
       "      <td>INCIDENTE</td>\n",
       "      <td>RIO DE JANEIRO</td>\n",
       "      <td>RJ</td>\n",
       "      <td>****</td>\n",
       "      <td>2010-01-03</td>\n",
       "      <td>12:00:00</td>\n",
       "      <td>0</td>\n",
       "    </tr>\n",
       "    <tr>\n",
       "      <th>3</th>\n",
       "      <td>39527</td>\n",
       "      <td>39527</td>\n",
       "      <td>ACIDENTE</td>\n",
       "      <td>LUCAS DO RIO VERDE</td>\n",
       "      <td>MT</td>\n",
       "      <td>****</td>\n",
       "      <td>2010-01-04</td>\n",
       "      <td>17:30:00</td>\n",
       "      <td>0</td>\n",
       "    </tr>\n",
       "    <tr>\n",
       "      <th>5</th>\n",
       "      <td>39807</td>\n",
       "      <td>39807</td>\n",
       "      <td>INCIDENTE</td>\n",
       "      <td>SALVADOR</td>\n",
       "      <td>BA</td>\n",
       "      <td>****</td>\n",
       "      <td>2010-01-06</td>\n",
       "      <td>17:53:00</td>\n",
       "      <td>0</td>\n",
       "    </tr>\n",
       "    <tr>\n",
       "      <th>7</th>\n",
       "      <td>39707</td>\n",
       "      <td>39707</td>\n",
       "      <td>INCIDENTE GRAVE</td>\n",
       "      <td>CANUTAMA</td>\n",
       "      <td>AM</td>\n",
       "      <td>****</td>\n",
       "      <td>2010-01-09</td>\n",
       "      <td>12:30:00</td>\n",
       "      <td>3</td>\n",
       "    </tr>\n",
       "    <tr>\n",
       "      <th>9</th>\n",
       "      <td>39711</td>\n",
       "      <td>39711</td>\n",
       "      <td>INCIDENTE GRAVE</td>\n",
       "      <td>PARÁ DE MINAS</td>\n",
       "      <td>MG</td>\n",
       "      <td>****</td>\n",
       "      <td>2010-01-10</td>\n",
       "      <td>20:00:00</td>\n",
       "      <td>0</td>\n",
       "    </tr>\n",
       "    <tr>\n",
       "      <th>...</th>\n",
       "      <td>...</td>\n",
       "      <td>...</td>\n",
       "      <td>...</td>\n",
       "      <td>...</td>\n",
       "      <td>...</td>\n",
       "      <td>...</td>\n",
       "      <td>...</td>\n",
       "      <td>...</td>\n",
       "      <td>...</td>\n",
       "    </tr>\n",
       "    <tr>\n",
       "      <th>5741</th>\n",
       "      <td>79754</td>\n",
       "      <td>79754</td>\n",
       "      <td>INCIDENTE GRAVE</td>\n",
       "      <td>NOVA MARINGÁ</td>\n",
       "      <td>MT</td>\n",
       "      <td>****</td>\n",
       "      <td>2020-12-28</td>\n",
       "      <td>13:00:00</td>\n",
       "      <td>0</td>\n",
       "    </tr>\n",
       "    <tr>\n",
       "      <th>5744</th>\n",
       "      <td>79753</td>\n",
       "      <td>79753</td>\n",
       "      <td>INCIDENTE GRAVE</td>\n",
       "      <td>GOIATUBA</td>\n",
       "      <td>GO</td>\n",
       "      <td>****</td>\n",
       "      <td>2020-12-29</td>\n",
       "      <td>12:00:00</td>\n",
       "      <td>0</td>\n",
       "    </tr>\n",
       "    <tr>\n",
       "      <th>5745</th>\n",
       "      <td>79755</td>\n",
       "      <td>79755</td>\n",
       "      <td>ACIDENTE</td>\n",
       "      <td>MATO RICO</td>\n",
       "      <td>PR</td>\n",
       "      <td>****</td>\n",
       "      <td>2020-12-29</td>\n",
       "      <td>10:30:00</td>\n",
       "      <td>0</td>\n",
       "    </tr>\n",
       "    <tr>\n",
       "      <th>5748</th>\n",
       "      <td>79757</td>\n",
       "      <td>79757</td>\n",
       "      <td>INCIDENTE GRAVE</td>\n",
       "      <td>LAGOA DA CONFUSÃO</td>\n",
       "      <td>TO</td>\n",
       "      <td>****</td>\n",
       "      <td>2020-12-30</td>\n",
       "      <td>18:30:00</td>\n",
       "      <td>0</td>\n",
       "    </tr>\n",
       "    <tr>\n",
       "      <th>5750</th>\n",
       "      <td>79756</td>\n",
       "      <td>79756</td>\n",
       "      <td>INCIDENTE GRAVE</td>\n",
       "      <td>VICENTINA</td>\n",
       "      <td>MS</td>\n",
       "      <td>****</td>\n",
       "      <td>2020-12-31</td>\n",
       "      <td>09:00:00</td>\n",
       "      <td>0</td>\n",
       "    </tr>\n",
       "  </tbody>\n",
       "</table>\n",
       "<p>2331 rows × 9 columns</p>\n",
       "</div>"
      ],
      "text/plain": [
       "      codigo_ocorrencia  codigo_ocorrencia2 ocorrencia_classificacao  \\\n",
       "0                 40211               40211                INCIDENTE   \n",
       "3                 39527               39527                 ACIDENTE   \n",
       "5                 39807               39807                INCIDENTE   \n",
       "7                 39707               39707          INCIDENTE GRAVE   \n",
       "9                 39711               39711          INCIDENTE GRAVE   \n",
       "...                 ...                 ...                      ...   \n",
       "5741              79754               79754          INCIDENTE GRAVE   \n",
       "5744              79753               79753          INCIDENTE GRAVE   \n",
       "5745              79755               79755                 ACIDENTE   \n",
       "5748              79757               79757          INCIDENTE GRAVE   \n",
       "5750              79756               79756          INCIDENTE GRAVE   \n",
       "\n",
       "       ocorrencia_cidade ocorrencia_uf ocorrencia_aerodromo ocorrencia_dia  \\\n",
       "0         RIO DE JANEIRO            RJ                 ****     2010-01-03   \n",
       "3     LUCAS DO RIO VERDE            MT                 ****     2010-01-04   \n",
       "5               SALVADOR            BA                 ****     2010-01-06   \n",
       "7               CANUTAMA            AM                 ****     2010-01-09   \n",
       "9          PARÁ DE MINAS            MG                 ****     2010-01-10   \n",
       "...                  ...           ...                  ...            ...   \n",
       "5741        NOVA MARINGÁ            MT                 ****     2020-12-28   \n",
       "5744            GOIATUBA            GO                 ****     2020-12-29   \n",
       "5745           MATO RICO            PR                 ****     2020-12-29   \n",
       "5748   LAGOA DA CONFUSÃO            TO                 ****     2020-12-30   \n",
       "5750           VICENTINA            MS                 ****     2020-12-31   \n",
       "\n",
       "     ocorrencia_hora  total_recomendacoes  \n",
       "0           12:00:00                    0  \n",
       "3           17:30:00                    0  \n",
       "5           17:53:00                    0  \n",
       "7           12:30:00                    3  \n",
       "9           20:00:00                    0  \n",
       "...              ...                  ...  \n",
       "5741        13:00:00                    0  \n",
       "5744        12:00:00                    0  \n",
       "5745        10:30:00                    0  \n",
       "5748        18:30:00                    0  \n",
       "5750        09:00:00                    0  \n",
       "\n",
       "[2331 rows x 9 columns]"
      ]
     },
     "execution_count": 8,
     "metadata": {},
     "output_type": "execute_result"
    }
   ],
   "source": [
    "# Selecionando todas as linhas que possuem ocorrencia_aerodromo igual a **** ou igual a *****.\n",
    "filtro = (df['ocorrencia_aerodromo'] == '****') | (df['ocorrencia_aerodromo'] == '*****')\n",
    "df.loc[filtro] "
   ]
  },
  {
   "cell_type": "code",
   "execution_count": 9,
   "metadata": {},
   "outputs": [],
   "source": [
    "#Substituindo os valores por NA -> not available\n",
    "df.replace(['**','****', '*****', '###!', '####', 'NULL'], pd.NA, inplace = True)"
   ]
  },
  {
   "cell_type": "code",
   "execution_count": 10,
   "metadata": {},
   "outputs": [
    {
     "data": {
      "text/plain": [
       "codigo_ocorrencia              0\n",
       "codigo_ocorrencia2             0\n",
       "ocorrencia_classificacao       0\n",
       "ocorrencia_cidade              0\n",
       "ocorrencia_uf                  1\n",
       "ocorrencia_aerodromo        2349\n",
       "ocorrencia_dia                 0\n",
       "ocorrencia_hora                1\n",
       "total_recomendacoes            0\n",
       "dtype: int64"
      ]
     },
     "execution_count": 10,
     "metadata": {},
     "output_type": "execute_result"
    }
   ],
   "source": [
    "#Para saber a quantidade de valores nulos também poderiamos utilizar - df.isna().sum()\n",
    "df.isnull().sum()"
   ]
  },
  {
   "cell_type": "code",
   "execution_count": 11,
   "metadata": {},
   "outputs": [
    {
     "data": {
      "text/html": [
       "<div>\n",
       "<style scoped>\n",
       "    .dataframe tbody tr th:only-of-type {\n",
       "        vertical-align: middle;\n",
       "    }\n",
       "\n",
       "    .dataframe tbody tr th {\n",
       "        vertical-align: top;\n",
       "    }\n",
       "\n",
       "    .dataframe thead th {\n",
       "        text-align: right;\n",
       "    }\n",
       "</style>\n",
       "<table border=\"1\" class=\"dataframe\">\n",
       "  <thead>\n",
       "    <tr style=\"text-align: right;\">\n",
       "      <th></th>\n",
       "      <th>codigo_ocorrencia</th>\n",
       "      <th>codigo_ocorrencia2</th>\n",
       "      <th>ocorrencia_classificacao</th>\n",
       "      <th>ocorrencia_cidade</th>\n",
       "      <th>ocorrencia_uf</th>\n",
       "      <th>ocorrencia_aerodromo</th>\n",
       "      <th>ocorrencia_dia</th>\n",
       "      <th>ocorrencia_hora</th>\n",
       "      <th>total_recomendacoes</th>\n",
       "    </tr>\n",
       "  </thead>\n",
       "  <tbody>\n",
       "    <tr>\n",
       "      <th>0</th>\n",
       "      <td>40211</td>\n",
       "      <td>40211</td>\n",
       "      <td>INCIDENTE</td>\n",
       "      <td>RIO DE JANEIRO</td>\n",
       "      <td>RJ</td>\n",
       "      <td>0</td>\n",
       "      <td>2010-01-03</td>\n",
       "      <td>12:00:00</td>\n",
       "      <td>0</td>\n",
       "    </tr>\n",
       "    <tr>\n",
       "      <th>1</th>\n",
       "      <td>40349</td>\n",
       "      <td>40349</td>\n",
       "      <td>INCIDENTE</td>\n",
       "      <td>BELÉM</td>\n",
       "      <td>PA</td>\n",
       "      <td>SBBE</td>\n",
       "      <td>2010-01-03</td>\n",
       "      <td>11:05:00</td>\n",
       "      <td>0</td>\n",
       "    </tr>\n",
       "    <tr>\n",
       "      <th>2</th>\n",
       "      <td>40351</td>\n",
       "      <td>40351</td>\n",
       "      <td>INCIDENTE</td>\n",
       "      <td>RIO DE JANEIRO</td>\n",
       "      <td>RJ</td>\n",
       "      <td>SBRJ</td>\n",
       "      <td>2010-01-03</td>\n",
       "      <td>03:00:00</td>\n",
       "      <td>0</td>\n",
       "    </tr>\n",
       "    <tr>\n",
       "      <th>3</th>\n",
       "      <td>39527</td>\n",
       "      <td>39527</td>\n",
       "      <td>ACIDENTE</td>\n",
       "      <td>LUCAS DO RIO VERDE</td>\n",
       "      <td>MT</td>\n",
       "      <td>0</td>\n",
       "      <td>2010-01-04</td>\n",
       "      <td>17:30:00</td>\n",
       "      <td>0</td>\n",
       "    </tr>\n",
       "    <tr>\n",
       "      <th>4</th>\n",
       "      <td>40324</td>\n",
       "      <td>40324</td>\n",
       "      <td>INCIDENTE</td>\n",
       "      <td>PELOTAS</td>\n",
       "      <td>RS</td>\n",
       "      <td>SBPK</td>\n",
       "      <td>2010-01-05</td>\n",
       "      <td>19:25:00</td>\n",
       "      <td>0</td>\n",
       "    </tr>\n",
       "    <tr>\n",
       "      <th>...</th>\n",
       "      <td>...</td>\n",
       "      <td>...</td>\n",
       "      <td>...</td>\n",
       "      <td>...</td>\n",
       "      <td>...</td>\n",
       "      <td>...</td>\n",
       "      <td>...</td>\n",
       "      <td>...</td>\n",
       "      <td>...</td>\n",
       "    </tr>\n",
       "    <tr>\n",
       "      <th>5747</th>\n",
       "      <td>79804</td>\n",
       "      <td>79804</td>\n",
       "      <td>INCIDENTE</td>\n",
       "      <td>CAMPINAS</td>\n",
       "      <td>SP</td>\n",
       "      <td>SBKP</td>\n",
       "      <td>2020-12-29</td>\n",
       "      <td>19:00:00</td>\n",
       "      <td>0</td>\n",
       "    </tr>\n",
       "    <tr>\n",
       "      <th>5748</th>\n",
       "      <td>79757</td>\n",
       "      <td>79757</td>\n",
       "      <td>INCIDENTE GRAVE</td>\n",
       "      <td>LAGOA DA CONFUSÃO</td>\n",
       "      <td>TO</td>\n",
       "      <td>0</td>\n",
       "      <td>2020-12-30</td>\n",
       "      <td>18:30:00</td>\n",
       "      <td>0</td>\n",
       "    </tr>\n",
       "    <tr>\n",
       "      <th>5749</th>\n",
       "      <td>79802</td>\n",
       "      <td>79802</td>\n",
       "      <td>INCIDENTE</td>\n",
       "      <td>RIO DE JANEIRO</td>\n",
       "      <td>RJ</td>\n",
       "      <td>SBGL</td>\n",
       "      <td>2020-12-30</td>\n",
       "      <td>00:54:00</td>\n",
       "      <td>0</td>\n",
       "    </tr>\n",
       "    <tr>\n",
       "      <th>5750</th>\n",
       "      <td>79756</td>\n",
       "      <td>79756</td>\n",
       "      <td>INCIDENTE GRAVE</td>\n",
       "      <td>VICENTINA</td>\n",
       "      <td>MS</td>\n",
       "      <td>0</td>\n",
       "      <td>2020-12-31</td>\n",
       "      <td>09:00:00</td>\n",
       "      <td>0</td>\n",
       "    </tr>\n",
       "    <tr>\n",
       "      <th>5751</th>\n",
       "      <td>79844</td>\n",
       "      <td>79844</td>\n",
       "      <td>INCIDENTE</td>\n",
       "      <td>RIO DE JANEIRO</td>\n",
       "      <td>RJ</td>\n",
       "      <td>SBJR</td>\n",
       "      <td>2020-12-31</td>\n",
       "      <td>13:24:00</td>\n",
       "      <td>0</td>\n",
       "    </tr>\n",
       "  </tbody>\n",
       "</table>\n",
       "<p>5752 rows × 9 columns</p>\n",
       "</div>"
      ],
      "text/plain": [
       "      codigo_ocorrencia  codigo_ocorrencia2 ocorrencia_classificacao  \\\n",
       "0                 40211               40211                INCIDENTE   \n",
       "1                 40349               40349                INCIDENTE   \n",
       "2                 40351               40351                INCIDENTE   \n",
       "3                 39527               39527                 ACIDENTE   \n",
       "4                 40324               40324                INCIDENTE   \n",
       "...                 ...                 ...                      ...   \n",
       "5747              79804               79804                INCIDENTE   \n",
       "5748              79757               79757          INCIDENTE GRAVE   \n",
       "5749              79802               79802                INCIDENTE   \n",
       "5750              79756               79756          INCIDENTE GRAVE   \n",
       "5751              79844               79844                INCIDENTE   \n",
       "\n",
       "       ocorrencia_cidade ocorrencia_uf ocorrencia_aerodromo ocorrencia_dia  \\\n",
       "0         RIO DE JANEIRO            RJ                    0     2010-01-03   \n",
       "1                  BELÉM            PA                 SBBE     2010-01-03   \n",
       "2         RIO DE JANEIRO            RJ                 SBRJ     2010-01-03   \n",
       "3     LUCAS DO RIO VERDE            MT                    0     2010-01-04   \n",
       "4                PELOTAS            RS                 SBPK     2010-01-05   \n",
       "...                  ...           ...                  ...            ...   \n",
       "5747            CAMPINAS            SP                 SBKP     2020-12-29   \n",
       "5748   LAGOA DA CONFUSÃO            TO                    0     2020-12-30   \n",
       "5749      RIO DE JANEIRO            RJ                 SBGL     2020-12-30   \n",
       "5750           VICENTINA            MS                    0     2020-12-31   \n",
       "5751      RIO DE JANEIRO            RJ                 SBJR     2020-12-31   \n",
       "\n",
       "     ocorrencia_hora  total_recomendacoes  \n",
       "0           12:00:00                    0  \n",
       "1           11:05:00                    0  \n",
       "2           03:00:00                    0  \n",
       "3           17:30:00                    0  \n",
       "4           19:25:00                    0  \n",
       "...              ...                  ...  \n",
       "5747        19:00:00                    0  \n",
       "5748        18:30:00                    0  \n",
       "5749        00:54:00                    0  \n",
       "5750        09:00:00                    0  \n",
       "5751        13:24:00                    0  \n",
       "\n",
       "[5752 rows x 9 columns]"
      ]
     },
     "execution_count": 11,
     "metadata": {},
     "output_type": "execute_result"
    }
   ],
   "source": [
    "# Substituindo todos os valores nulos por 0\n",
    "df.fillna(0)"
   ]
  },
  {
   "cell_type": "markdown",
   "metadata": {},
   "source": [
    "### Transformação e Agregação dos dados\n",
    "\n",
    "Aplicações de filtros e agregações de dados para visualização dos dados"
   ]
  },
  {
   "cell_type": "code",
   "execution_count": 12,
   "metadata": {},
   "outputs": [],
   "source": [
    "# definindo o estilo utilizado nos gráficos\n",
    "plt.style.use('seaborn')"
   ]
  },
  {
   "cell_type": "code",
   "execution_count": 13,
   "metadata": {},
   "outputs": [
    {
     "name": "stdout",
     "output_type": "stream",
     "text": [
      "Data mais recente:  2020-12-31 00:00:00\n",
      "Data mais antiga:  2010-01-03 00:00:00\n"
     ]
    }
   ],
   "source": [
    "# Esses dados são de qual período?\n",
    "print('Data mais recente: ',df['ocorrencia_dia'].max())\n",
    "print('Data mais antiga: ',df['ocorrencia_dia'].min())"
   ]
  },
  {
   "cell_type": "markdown",
   "metadata": {},
   "source": [
    "**Esse conjunto de dados possui ocorrências de 03/01/2010 até 31/12/2020.**"
   ]
  },
  {
   "cell_type": "markdown",
   "metadata": {},
   "source": [
    "Analisando a classificação das ocorrências"
   ]
  },
  {
   "cell_type": "code",
   "execution_count": 14,
   "metadata": {},
   "outputs": [
    {
     "data": {
      "text/plain": [
       "INCIDENTE          3171\n",
       "ACIDENTE           1844\n",
       "INCIDENTE GRAVE     737\n",
       "Name: ocorrencia_classificacao, dtype: int64"
      ]
     },
     "execution_count": 14,
     "metadata": {},
     "output_type": "execute_result"
    }
   ],
   "source": [
    "# Quantidade de cada uma das classificação no perído de 2010 a 2020\n",
    "df['ocorrencia_classificacao'].value_counts()"
   ]
  },
  {
   "cell_type": "code",
   "execution_count": 15,
   "metadata": {},
   "outputs": [
    {
     "data": {
      "image/png": "[encoded data removed]",
      "text/plain": [
       "<Figure size 576x396 with 1 Axes>"
      ]
     },
     "metadata": {},
     "output_type": "display_data"
    }
   ],
   "source": [
    "# Gráfico de barras\n",
    "df['ocorrencia_classificacao'].value_counts().plot.bar(color='salmon', fontsize=15)\n",
    "plt.title('Classificação das Ocorrências - 2010 a 2020', fontsize=20)\n",
    "plt.xlabel('Classificação', fontsize=15)\n",
    "plt.xticks(rotation='horizontal')\n",
    "plt.ylabel('Quantidade', fontsize=15);"
   ]
  },
  {
   "cell_type": "markdown",
   "metadata": {},
   "source": [
    "Como podemos observar nos resultados a cima, a maior parte das ocorrências são de INCIDENTE, seguindo de ACIDENTE e INCIDENTE GRAVE.\n",
    "\n",
    "Vamos analisar agora a localização dessas classificações.\n",
    "\n",
    "Para facilitar as análises criei 5 data frames que irão representar as regiões do Brasil."
   ]
  },
  {
   "cell_type": "code",
   "execution_count": 16,
   "metadata": {},
   "outputs": [
    {
     "data": {
      "text/plain": [
       "array(['RJ', 'PA', 'MT', 'RS', 'BA', 'AM', 'PR', 'MG', 'SP', 'DF', 'AC',\n",
       "       'TO', 'SC', 'GO', 'MA', 'ES', 'PE', 'RR', 'MS', 'CE', 'AP', 'AL',\n",
       "       'RO', 'SE', 'PB', 'PI', 'RN', <NA>], dtype=object)"
      ]
     },
     "execution_count": 16,
     "metadata": {},
     "output_type": "execute_result"
    }
   ],
   "source": [
    "# verificando quais Estados estão presentes no df\n",
    "# lembrando que existe um valor de UF não informado - <NA>\n",
    "df['ocorrencia_uf'].unique()"
   ]
  },
  {
   "cell_type": "code",
   "execution_count": 17,
   "metadata": {},
   "outputs": [],
   "source": [
    "# df com as ocorrências da região sudeste\n",
    "filtro = df['ocorrencia_uf'].isin(['SP', 'MG', 'ES', 'RJ'])\n",
    "df_sudeste = df.loc[filtro]"
   ]
  },
  {
   "cell_type": "code",
   "execution_count": 18,
   "metadata": {},
   "outputs": [],
   "source": [
    "# df com as ocorrências da região nordeste\n",
    "filtro = df['ocorrencia_uf'].isin(['MA', 'PI', 'BA', 'CE', 'PE', 'SE', 'AL', 'PB', 'RN'])\n",
    "df_nordeste = df.loc[filtro]"
   ]
  },
  {
   "cell_type": "code",
   "execution_count": 19,
   "metadata": {},
   "outputs": [],
   "source": [
    "# df com as ocorrências da região centro-oeste\n",
    "filtro = df['ocorrencia_uf'].isin(['MS', 'MT', 'GO', 'DF'])\n",
    "df_centro_oeste = df.loc[filtro]\n"
   ]
  },
  {
   "cell_type": "code",
   "execution_count": 20,
   "metadata": {},
   "outputs": [],
   "source": [
    "# df com as ocorrências da região norte\n",
    "filtro = df['ocorrencia_uf'].isin(['AC', 'RO', 'AM', 'RR', 'PA', 'TO', 'AP'])\n",
    "df_norte = df.loc[filtro]"
   ]
  },
  {
   "cell_type": "code",
   "execution_count": 21,
   "metadata": {},
   "outputs": [],
   "source": [
    "# df com as ocorrências da região sul\n",
    "filtro = df['ocorrencia_uf'].isin(['RS', 'SC', 'PR'])\n",
    "df_sul = df.loc[filtro]"
   ]
  },
  {
   "cell_type": "code",
   "execution_count": 22,
   "metadata": {},
   "outputs": [
    {
     "name": "stdout",
     "output_type": "stream",
     "text": [
      "Ocorrencias do sudeste: 2493\n",
      "Ocorrencias do nordeste: 608\n",
      "Ocorrencias do centro-oeste: 887\n",
      "Ocorrencias do norte: 737\n",
      "Ocorrencias do sul: 1026\n"
     ]
    }
   ],
   "source": [
    "# Número de registros/linhas de cada um dos novos df criados\n",
    "print('Ocorrencias do sudeste:',df_sudeste['ocorrencia_classificacao'].count())\n",
    "print('Ocorrencias do nordeste:',df_nordeste['ocorrencia_classificacao'].count())\n",
    "print('Ocorrencias do centro-oeste:',df_centro_oeste['ocorrencia_classificacao'].count())\n",
    "print('Ocorrencias do norte:',df_norte['ocorrencia_classificacao'].count())\n",
    "print('Ocorrencias do sul:',df_sul['ocorrencia_classificacao'].count())"
   ]
  },
  {
   "cell_type": "markdown",
   "metadata": {},
   "source": [
    "Agora vamos criar uma nova coluna chamada região para analisar os dados por regiões do Brasil"
   ]
  },
  {
   "cell_type": "code",
   "execution_count": 23,
   "metadata": {},
   "outputs": [],
   "source": [
    "#Criando uma nova coluna, chamada regiao, no df e adicionado um valor vazio.\n",
    "df['regiao'] = ''"
   ]
  },
  {
   "cell_type": "code",
   "execution_count": 24,
   "metadata": {},
   "outputs": [],
   "source": [
    "# Vou precisar dos indexs das linhas de cada df que representa cada uma das 5 regiões, para inserir os valores corretos na coluna regiao\n",
    "index_sul = df_sul.index\n",
    "index_centro_oeste = df_centro_oeste.index\n",
    "index_norte = df_norte.index\n",
    "index_nordeste = df_nordeste.index\n",
    "index_sudeste = df_sudeste.index"
   ]
  },
  {
   "cell_type": "code",
   "execution_count": 25,
   "metadata": {},
   "outputs": [],
   "source": [
    "# Adicionando as regiões em cada linha com base nos index dos df que representam cada uma das regiões \n",
    "df.loc[index_sul, 'regiao'] = 'Sul'\n",
    "df.loc[index_centro_oeste, 'regiao'] = 'Centro-Oeste'\n",
    "df.loc[index_norte, 'regiao'] = 'Norte'\n",
    "df.loc[index_nordeste, 'regiao'] = 'Nordeste'\n",
    "df.loc[index_sudeste, 'regiao'] = 'Sudeste'"
   ]
  },
  {
   "cell_type": "code",
   "execution_count": 26,
   "metadata": {},
   "outputs": [
    {
     "data": {
      "text/html": [
       "<div>\n",
       "<style scoped>\n",
       "    .dataframe tbody tr th:only-of-type {\n",
       "        vertical-align: middle;\n",
       "    }\n",
       "\n",
       "    .dataframe tbody tr th {\n",
       "        vertical-align: top;\n",
       "    }\n",
       "\n",
       "    .dataframe thead th {\n",
       "        text-align: right;\n",
       "    }\n",
       "</style>\n",
       "<table border=\"1\" class=\"dataframe\">\n",
       "  <thead>\n",
       "    <tr style=\"text-align: right;\">\n",
       "      <th></th>\n",
       "      <th>codigo_ocorrencia</th>\n",
       "      <th>codigo_ocorrencia2</th>\n",
       "      <th>ocorrencia_classificacao</th>\n",
       "      <th>ocorrencia_cidade</th>\n",
       "      <th>ocorrencia_uf</th>\n",
       "      <th>ocorrencia_aerodromo</th>\n",
       "      <th>ocorrencia_dia</th>\n",
       "      <th>ocorrencia_hora</th>\n",
       "      <th>total_recomendacoes</th>\n",
       "      <th>regiao</th>\n",
       "    </tr>\n",
       "  </thead>\n",
       "  <tbody>\n",
       "    <tr>\n",
       "      <th>0</th>\n",
       "      <td>40211</td>\n",
       "      <td>40211</td>\n",
       "      <td>INCIDENTE</td>\n",
       "      <td>RIO DE JANEIRO</td>\n",
       "      <td>RJ</td>\n",
       "      <td>&lt;NA&gt;</td>\n",
       "      <td>2010-01-03</td>\n",
       "      <td>12:00:00</td>\n",
       "      <td>0</td>\n",
       "      <td>Sudeste</td>\n",
       "    </tr>\n",
       "    <tr>\n",
       "      <th>1</th>\n",
       "      <td>40349</td>\n",
       "      <td>40349</td>\n",
       "      <td>INCIDENTE</td>\n",
       "      <td>BELÉM</td>\n",
       "      <td>PA</td>\n",
       "      <td>SBBE</td>\n",
       "      <td>2010-01-03</td>\n",
       "      <td>11:05:00</td>\n",
       "      <td>0</td>\n",
       "      <td>Norte</td>\n",
       "    </tr>\n",
       "    <tr>\n",
       "      <th>2</th>\n",
       "      <td>40351</td>\n",
       "      <td>40351</td>\n",
       "      <td>INCIDENTE</td>\n",
       "      <td>RIO DE JANEIRO</td>\n",
       "      <td>RJ</td>\n",
       "      <td>SBRJ</td>\n",
       "      <td>2010-01-03</td>\n",
       "      <td>03:00:00</td>\n",
       "      <td>0</td>\n",
       "      <td>Sudeste</td>\n",
       "    </tr>\n",
       "    <tr>\n",
       "      <th>3</th>\n",
       "      <td>39527</td>\n",
       "      <td>39527</td>\n",
       "      <td>ACIDENTE</td>\n",
       "      <td>LUCAS DO RIO VERDE</td>\n",
       "      <td>MT</td>\n",
       "      <td>&lt;NA&gt;</td>\n",
       "      <td>2010-01-04</td>\n",
       "      <td>17:30:00</td>\n",
       "      <td>0</td>\n",
       "      <td>Centro-Oeste</td>\n",
       "    </tr>\n",
       "    <tr>\n",
       "      <th>4</th>\n",
       "      <td>40324</td>\n",
       "      <td>40324</td>\n",
       "      <td>INCIDENTE</td>\n",
       "      <td>PELOTAS</td>\n",
       "      <td>RS</td>\n",
       "      <td>SBPK</td>\n",
       "      <td>2010-01-05</td>\n",
       "      <td>19:25:00</td>\n",
       "      <td>0</td>\n",
       "      <td>Sul</td>\n",
       "    </tr>\n",
       "    <tr>\n",
       "      <th>5</th>\n",
       "      <td>39807</td>\n",
       "      <td>39807</td>\n",
       "      <td>INCIDENTE</td>\n",
       "      <td>SALVADOR</td>\n",
       "      <td>BA</td>\n",
       "      <td>&lt;NA&gt;</td>\n",
       "      <td>2010-01-06</td>\n",
       "      <td>17:53:00</td>\n",
       "      <td>0</td>\n",
       "      <td>Nordeste</td>\n",
       "    </tr>\n",
       "    <tr>\n",
       "      <th>6</th>\n",
       "      <td>40215</td>\n",
       "      <td>40215</td>\n",
       "      <td>INCIDENTE</td>\n",
       "      <td>COARI</td>\n",
       "      <td>AM</td>\n",
       "      <td>SBUY</td>\n",
       "      <td>2010-01-07</td>\n",
       "      <td>18:40:00</td>\n",
       "      <td>0</td>\n",
       "      <td>Norte</td>\n",
       "    </tr>\n",
       "    <tr>\n",
       "      <th>7</th>\n",
       "      <td>39707</td>\n",
       "      <td>39707</td>\n",
       "      <td>INCIDENTE GRAVE</td>\n",
       "      <td>CANUTAMA</td>\n",
       "      <td>AM</td>\n",
       "      <td>&lt;NA&gt;</td>\n",
       "      <td>2010-01-09</td>\n",
       "      <td>12:30:00</td>\n",
       "      <td>3</td>\n",
       "      <td>Norte</td>\n",
       "    </tr>\n",
       "    <tr>\n",
       "      <th>8</th>\n",
       "      <td>39156</td>\n",
       "      <td>39156</td>\n",
       "      <td>INCIDENTE GRAVE</td>\n",
       "      <td>CASCAVEL</td>\n",
       "      <td>PR</td>\n",
       "      <td>SBCA</td>\n",
       "      <td>2010-01-10</td>\n",
       "      <td>23:15:00</td>\n",
       "      <td>2</td>\n",
       "      <td>Sul</td>\n",
       "    </tr>\n",
       "    <tr>\n",
       "      <th>9</th>\n",
       "      <td>39711</td>\n",
       "      <td>39711</td>\n",
       "      <td>INCIDENTE GRAVE</td>\n",
       "      <td>PARÁ DE MINAS</td>\n",
       "      <td>MG</td>\n",
       "      <td>&lt;NA&gt;</td>\n",
       "      <td>2010-01-10</td>\n",
       "      <td>20:00:00</td>\n",
       "      <td>0</td>\n",
       "      <td>Sudeste</td>\n",
       "    </tr>\n",
       "    <tr>\n",
       "      <th>10</th>\n",
       "      <td>39789</td>\n",
       "      <td>39789</td>\n",
       "      <td>INCIDENTE</td>\n",
       "      <td>SÃO PEDRO DO SUL</td>\n",
       "      <td>RS</td>\n",
       "      <td>&lt;NA&gt;</td>\n",
       "      <td>2010-01-10</td>\n",
       "      <td>21:30:00</td>\n",
       "      <td>0</td>\n",
       "      <td>Sul</td>\n",
       "    </tr>\n",
       "    <tr>\n",
       "      <th>11</th>\n",
       "      <td>40069</td>\n",
       "      <td>40069</td>\n",
       "      <td>ACIDENTE</td>\n",
       "      <td>SÃO PAULO</td>\n",
       "      <td>SP</td>\n",
       "      <td>SBMT</td>\n",
       "      <td>2010-01-10</td>\n",
       "      <td>14:50:00</td>\n",
       "      <td>8</td>\n",
       "      <td>Sudeste</td>\n",
       "    </tr>\n",
       "  </tbody>\n",
       "</table>\n",
       "</div>"
      ],
      "text/plain": [
       "    codigo_ocorrencia  codigo_ocorrencia2 ocorrencia_classificacao  \\\n",
       "0               40211               40211                INCIDENTE   \n",
       "1               40349               40349                INCIDENTE   \n",
       "2               40351               40351                INCIDENTE   \n",
       "3               39527               39527                 ACIDENTE   \n",
       "4               40324               40324                INCIDENTE   \n",
       "5               39807               39807                INCIDENTE   \n",
       "6               40215               40215                INCIDENTE   \n",
       "7               39707               39707          INCIDENTE GRAVE   \n",
       "8               39156               39156          INCIDENTE GRAVE   \n",
       "9               39711               39711          INCIDENTE GRAVE   \n",
       "10              39789               39789                INCIDENTE   \n",
       "11              40069               40069                 ACIDENTE   \n",
       "\n",
       "     ocorrencia_cidade ocorrencia_uf ocorrencia_aerodromo ocorrencia_dia  \\\n",
       "0       RIO DE JANEIRO            RJ                 <NA>     2010-01-03   \n",
       "1                BELÉM            PA                 SBBE     2010-01-03   \n",
       "2       RIO DE JANEIRO            RJ                 SBRJ     2010-01-03   \n",
       "3   LUCAS DO RIO VERDE            MT                 <NA>     2010-01-04   \n",
       "4              PELOTAS            RS                 SBPK     2010-01-05   \n",
       "5             SALVADOR            BA                 <NA>     2010-01-06   \n",
       "6                COARI            AM                 SBUY     2010-01-07   \n",
       "7             CANUTAMA            AM                 <NA>     2010-01-09   \n",
       "8             CASCAVEL            PR                 SBCA     2010-01-10   \n",
       "9        PARÁ DE MINAS            MG                 <NA>     2010-01-10   \n",
       "10    SÃO PEDRO DO SUL            RS                 <NA>     2010-01-10   \n",
       "11           SÃO PAULO            SP                 SBMT     2010-01-10   \n",
       "\n",
       "   ocorrencia_hora  total_recomendacoes        regiao  \n",
       "0         12:00:00                    0       Sudeste  \n",
       "1         11:05:00                    0         Norte  \n",
       "2         03:00:00                    0       Sudeste  \n",
       "3         17:30:00                    0  Centro-Oeste  \n",
       "4         19:25:00                    0           Sul  \n",
       "5         17:53:00                    0      Nordeste  \n",
       "6         18:40:00                    0         Norte  \n",
       "7         12:30:00                    3         Norte  \n",
       "8         23:15:00                    2           Sul  \n",
       "9         20:00:00                    0       Sudeste  \n",
       "10        21:30:00                    0           Sul  \n",
       "11        14:50:00                    8       Sudeste  "
      ]
     },
     "execution_count": 26,
     "metadata": {},
     "output_type": "execute_result"
    }
   ],
   "source": [
    "# Verificando se os valores foram inseridos\n",
    "df.head(12)"
   ]
  },
  {
   "cell_type": "code",
   "execution_count": 27,
   "metadata": {},
   "outputs": [
    {
     "data": {
      "text/plain": [
       "array(['Sudeste', 'Norte', 'Centro-Oeste', 'Sul', 'Nordeste', ''],\n",
       "      dtype=object)"
      ]
     },
     "execution_count": 27,
     "metadata": {},
     "output_type": "execute_result"
    }
   ],
   "source": [
    "#Verificando os valores da coluna regiao\n",
    "df['regiao'].unique()"
   ]
  },
  {
   "cell_type": "code",
   "execution_count": 28,
   "metadata": {},
   "outputs": [
    {
     "data": {
      "text/html": [
       "<div>\n",
       "<style scoped>\n",
       "    .dataframe tbody tr th:only-of-type {\n",
       "        vertical-align: middle;\n",
       "    }\n",
       "\n",
       "    .dataframe tbody tr th {\n",
       "        vertical-align: top;\n",
       "    }\n",
       "\n",
       "    .dataframe thead th {\n",
       "        text-align: right;\n",
       "    }\n",
       "</style>\n",
       "<table border=\"1\" class=\"dataframe\">\n",
       "  <thead>\n",
       "    <tr style=\"text-align: right;\">\n",
       "      <th></th>\n",
       "      <th>codigo_ocorrencia</th>\n",
       "      <th>codigo_ocorrencia2</th>\n",
       "      <th>ocorrencia_classificacao</th>\n",
       "      <th>ocorrencia_cidade</th>\n",
       "      <th>ocorrencia_uf</th>\n",
       "      <th>ocorrencia_aerodromo</th>\n",
       "      <th>ocorrencia_dia</th>\n",
       "      <th>ocorrencia_hora</th>\n",
       "      <th>total_recomendacoes</th>\n",
       "      <th>regiao</th>\n",
       "    </tr>\n",
       "  </thead>\n",
       "  <tbody>\n",
       "    <tr>\n",
       "      <th>2227</th>\n",
       "      <td>49474</td>\n",
       "      <td>49474</td>\n",
       "      <td>ACIDENTE</td>\n",
       "      <td>ÁGUAS INTERNACIONAIS</td>\n",
       "      <td>&lt;NA&gt;</td>\n",
       "      <td>&lt;NA&gt;</td>\n",
       "      <td>2013-09-02</td>\n",
       "      <td>02:54:00</td>\n",
       "      <td>0</td>\n",
       "      <td></td>\n",
       "    </tr>\n",
       "  </tbody>\n",
       "</table>\n",
       "</div>"
      ],
      "text/plain": [
       "      codigo_ocorrencia  codigo_ocorrencia2 ocorrencia_classificacao  \\\n",
       "2227              49474               49474                 ACIDENTE   \n",
       "\n",
       "         ocorrencia_cidade ocorrencia_uf ocorrencia_aerodromo ocorrencia_dia  \\\n",
       "2227  ÁGUAS INTERNACIONAIS          <NA>                 <NA>     2013-09-02   \n",
       "\n",
       "     ocorrencia_hora  total_recomendacoes regiao  \n",
       "2227        02:54:00                    0         "
      ]
     },
     "execution_count": 28,
     "metadata": {},
     "output_type": "execute_result"
    }
   ],
   "source": [
    "# A linha que não possui dados no campo ocorrencia_uf\n",
    "# ocorrencia em águas internacionais\n",
    "df.loc[df['regiao']=='']"
   ]
  },
  {
   "cell_type": "code",
   "execution_count": 29,
   "metadata": {},
   "outputs": [
    {
     "data": {
      "text/plain": [
       "Sudeste         2493\n",
       "Sul             1026\n",
       "Centro-Oeste     887\n",
       "Norte            737\n",
       "Nordeste         608\n",
       "                   1\n",
       "Name: regiao, dtype: int64"
      ]
     },
     "execution_count": 29,
     "metadata": {},
     "output_type": "execute_result"
    }
   ],
   "source": [
    "# Quais são as quantidades de ocorrências por região?\n",
    "df['regiao'].value_counts()"
   ]
  },
  {
   "cell_type": "code",
   "execution_count": 30,
   "metadata": {},
   "outputs": [
    {
     "data": {
      "image/png": "[encoded data removed]",
      "text/plain": [
       "<Figure size 576x396 with 1 Axes>"
      ]
     },
     "metadata": {},
     "output_type": "display_data"
    }
   ],
   "source": [
    "# Gráfico de barras\n",
    "df['regiao'].value_counts().plot.bar(color='salmon', fontsize=15)\n",
    "plt.title('Ocorrências por região',fontsize=20)\n",
    "plt.xlabel('Região', fontsize=15)\n",
    "plt.xticks(rotation='horizontal')\n",
    "plt.ylabel('Quantidade Ocorrência', fontsize=15);"
   ]
  },
  {
   "cell_type": "markdown",
   "metadata": {},
   "source": [
    "A região sudeste foi a que apresentou um maior número de ocorrências, no período de 2010 a 2020. Analisando especificamente essa região podemos encontrar quais foram os tipos de ocorrências que mais aconteceram na região sudeste."
   ]
  },
  {
   "cell_type": "code",
   "execution_count": 31,
   "metadata": {},
   "outputs": [
    {
     "data": {
      "text/plain": [
       "INCIDENTE          1609\n",
       "ACIDENTE            615\n",
       "INCIDENTE GRAVE     269\n",
       "Name: ocorrencia_classificacao, dtype: int64"
      ]
     },
     "execution_count": 31,
     "metadata": {},
     "output_type": "execute_result"
    }
   ],
   "source": [
    "# Ocorrências somente da região sudeste\n",
    "df_sudeste['ocorrencia_classificacao'].value_counts()"
   ]
  },
  {
   "cell_type": "code",
   "execution_count": 32,
   "metadata": {},
   "outputs": [
    {
     "data": {
      "image/png": "[encoded data removed]",
      "text/plain": [
       "<Figure size 576x396 with 1 Axes>"
      ]
     },
     "metadata": {},
     "output_type": "display_data"
    }
   ],
   "source": [
    "# Gráfico com a distribuição das classificações de ocorrências na região sudeste\n",
    "df_sudeste['ocorrencia_classificacao'].value_counts().plot.bar(color='salmon', fontsize=15)\n",
    "plt.title('Classificação das Ocorrências - Sudeste',fontsize=20)\n",
    "plt.xlabel('Classificação', fontsize=15)\n",
    "plt.xticks(rotation='horizontal', fontweight='bold')\n",
    "plt.ylabel('Quantidade Ocorrência', fontsize=15);"
   ]
  },
  {
   "cell_type": "markdown",
   "metadata": {},
   "source": [
    "Maior quantidade de ocorrências classifiadas como INCIDENTE"
   ]
  },
  {
   "cell_type": "markdown",
   "metadata": {},
   "source": [
    "Vamos agora criar o mesmo gráfco a cima só que para as outras regiões do Brasil\n",
    " * Nordeste\n",
    " * Sul\n",
    " * Norte\n",
    " * Centro-Oeste"
   ]
  },
  {
   "cell_type": "code",
   "execution_count": 33,
   "metadata": {},
   "outputs": [
    {
     "data": {
      "image/png": "[encoded data removed]",
      "text/plain": [
       "<Figure size 1080x936 with 4 Axes>"
      ]
     },
     "metadata": {},
     "output_type": "display_data"
    }
   ],
   "source": [
    "fig, axes = plt.subplots(nrows=2, ncols=2, figsize=(15,13))\n",
    "fig.subplots_adjust(hspace=0.8, wspace=0.8)\n",
    "legendas = ['INCIDENTE', 'ACIDENTE', '    INCIDENTE \\nGRAVE']\n",
    "\n",
    "#Gráfico 1 - Nordeste\n",
    "df_nordeste.groupby('ocorrencia_classificacao')['ocorrencia_uf'].count().sort_values(ascending=False).plot.bar(ax=axes[0][0], color='salmon')\n",
    "axes[0][0].set_title('Nordeste', fontsize=20)\n",
    "axes[0][0].set_xlabel('Classificação', fontsize=15, fontweight='bold')\n",
    "axes[0][0].set_xticklabels(legendas, rotation='horizontal', fontweight='bold', fontsize=10)\n",
    "axes[0][0].set_ylabel('Quantidade Ocorrências', fontsize=15, fontweight='bold')\n",
    "axes[0][0].set_ylim(0, 550)\n",
    "\n",
    "#Gráfico 2 - Sul\n",
    "df_sul.groupby('ocorrencia_classificacao')['ocorrencia_uf'].count().sort_values(ascending=False).plot.bar(ax=axes[1][0], color='salmon')\n",
    "axes[1][0].set_title('Sul', fontsize=20)\n",
    "axes[1][0].set_xlabel('Classificação', fontsize=15, fontweight='bold')\n",
    "axes[1][0].set_xticklabels(legendas, rotation='horizontal', fontweight='bold', fontsize=10)\n",
    "axes[1][0].set_ylabel('Quantidade Ocorrências', fontsize=15, fontweight='bold')\n",
    "axes[1][0].set_ylim(0, 550)\n",
    "\n",
    "#Gráfico 3 - Norte\n",
    "df_norte.groupby('ocorrencia_classificacao')['ocorrencia_uf'].count().sort_values(ascending=False).plot.bar(ax=axes[0][1], color='salmon')\n",
    "axes[0][1].set_title('Norte', fontsize=20)\n",
    "axes[0][1].set_xlabel('Classificação', fontsize=15, fontweight='bold')\n",
    "axes[0][1].set_xticklabels(legendas, rotation='horizontal', fontweight='bold', fontsize=10)\n",
    "axes[0][1].set_ylabel('Quantidade Ocorrências', fontsize=15, fontweight='bold')\n",
    "axes[0][1].set_ylim(0, 550)\n",
    "\n",
    "\n",
    "#Gráfico 4 - Centro-Oeste\n",
    "df_centro_oeste.groupby('ocorrencia_classificacao')['ocorrencia_uf'].count().sort_values(ascending=False).plot.bar(ax=axes[1][1], color='salmon')\n",
    "axes[1][1].set_title('Centro-Oeste', fontsize=20)\n",
    "axes[1][1].set_xlabel('Classificação', fontsize=15, fontweight='bold')\n",
    "axes[1][1].set_xticklabels(legendas, rotation='horizontal', fontweight='bold', fontsize=10)\n",
    "axes[1][1].set_ylabel('Quantidade Ocorrências', fontsize=15, fontweight='bold')\n",
    "axes[1][1].set_ylim(0, 550);\n",
    "\n"
   ]
  },
  {
   "cell_type": "markdown",
   "metadata": {},
   "source": [
    "### Região Sudeste"
   ]
  },
  {
   "cell_type": "markdown",
   "metadata": {},
   "source": [
    "Sabemos que nesse conjunto de dados a região sudeste foi a que teve um maior número de ocorrências gerais e também o maior numero de ocorências em todas as classificações consideradas individualmente.\n",
    "\n",
    "Vamos agora analisar com um pouco mais de detalhe a região sudeste."
   ]
  },
  {
   "cell_type": "code",
   "execution_count": 34,
   "metadata": {},
   "outputs": [
    {
     "name": "stdout",
     "output_type": "stream",
     "text": [
      "<class 'pandas.core.frame.DataFrame'>\n",
      "Int64Index: 2493 entries, 0 to 5751\n",
      "Data columns (total 9 columns):\n",
      " #   Column                    Non-Null Count  Dtype         \n",
      "---  ------                    --------------  -----         \n",
      " 0   codigo_ocorrencia         2493 non-null   int64         \n",
      " 1   codigo_ocorrencia2        2493 non-null   int64         \n",
      " 2   ocorrencia_classificacao  2493 non-null   object        \n",
      " 3   ocorrencia_cidade         2493 non-null   object        \n",
      " 4   ocorrencia_uf             2493 non-null   object        \n",
      " 5   ocorrencia_aerodromo      1585 non-null   object        \n",
      " 6   ocorrencia_dia            2493 non-null   datetime64[ns]\n",
      " 7   ocorrencia_hora           2493 non-null   object        \n",
      " 8   total_recomendacoes       2493 non-null   int64         \n",
      "dtypes: datetime64[ns](1), int64(3), object(5)\n",
      "memory usage: 194.8+ KB\n"
     ]
    }
   ],
   "source": [
    "#lembrando que foi criado um dataframe somente com os dados da região sudeste (df_sudeste). Vamos utilizá-lo\n",
    "df_sudeste.info()"
   ]
  },
  {
   "cell_type": "markdown",
   "metadata": {},
   "source": [
    "* O conjunto de dados do sudeste tem 2493 linhas"
   ]
  },
  {
   "cell_type": "code",
   "execution_count": 35,
   "metadata": {},
   "outputs": [
    {
     "data": {
      "text/plain": [
       "SP    1373\n",
       "MG     529\n",
       "RJ     516\n",
       "ES      75\n",
       "Name: ocorrencia_uf, dtype: int64"
      ]
     },
     "execution_count": 35,
     "metadata": {},
     "output_type": "execute_result"
    }
   ],
   "source": [
    "# Quantidades de ocorrências em cada estado da região sudeste\n",
    "df_sudeste['ocorrencia_uf'].value_counts()"
   ]
  },
  {
   "cell_type": "code",
   "execution_count": 36,
   "metadata": {},
   "outputs": [
    {
     "data": {
      "image/png": "[encoded data removed]",
      "text/plain": [
       "<Figure size 576x396 with 1 Axes>"
      ]
     },
     "metadata": {},
     "output_type": "display_data"
    }
   ],
   "source": [
    "# Gráfico de barras da quantidade de ocorrências por estados da região sudeste\n",
    "df_sudeste['ocorrencia_uf'].value_counts().plot.bar(color='salmon', fontsize=15);\n",
    "plt.title('Ocorrências por Estado - Sudeste',fontsize=20)\n",
    "plt.xlabel('Estados', fontsize=15)\n",
    "plt.xticks(rotation='horizontal', fontweight='bold')\n",
    "plt.ylabel('Quantidade Ocorrências', fontsize=15);"
   ]
  },
  {
   "cell_type": "markdown",
   "metadata": {},
   "source": [
    "A maior parte das ocorrências da região sudeste são do estado de São Paulo!\n",
    "\n",
    "Podemos ver esses mesmos dados em forma de porentagem"
   ]
  },
  {
   "cell_type": "code",
   "execution_count": 37,
   "metadata": {},
   "outputs": [
    {
     "data": {
      "text/plain": [
       "2493"
      ]
     },
     "execution_count": 37,
     "metadata": {},
     "output_type": "execute_result"
    }
   ],
   "source": [
    "#primeiro vamos guardar o total de valores em uma variável - total\n",
    "total = df_sudeste['ocorrencia_uf'].count()\n",
    "total"
   ]
  },
  {
   "cell_type": "code",
   "execution_count": 38,
   "metadata": {},
   "outputs": [
    {
     "data": {
      "text/plain": [
       "{'SP': 1373, 'MG': 529, 'RJ': 516, 'ES': 75}"
      ]
     },
     "execution_count": 38,
     "metadata": {},
     "output_type": "execute_result"
    }
   ],
   "source": [
    "# Agora vamos separar em um dicionário os valores de ocorrências individuais de cada estado \n",
    "estados = dict(df_sudeste['ocorrencia_uf'].value_counts())\n",
    "estados"
   ]
  },
  {
   "cell_type": "code",
   "execution_count": 39,
   "metadata": {},
   "outputs": [
    {
     "data": {
      "text/plain": [
       "dict_values([1373, 529, 516, 75])"
      ]
     },
     "execution_count": 39,
     "metadata": {},
     "output_type": "execute_result"
    }
   ],
   "source": [
    "#valores\n",
    "estados.values()"
   ]
  },
  {
   "cell_type": "code",
   "execution_count": 40,
   "metadata": {},
   "outputs": [
    {
     "data": {
      "text/plain": [
       "dict_keys(['SP', 'MG', 'RJ', 'ES'])"
      ]
     },
     "execution_count": 40,
     "metadata": {},
     "output_type": "execute_result"
    }
   ],
   "source": [
    "# chaves - os estados\n",
    "estados.keys()"
   ]
  },
  {
   "cell_type": "code",
   "execution_count": 41,
   "metadata": {},
   "outputs": [
    {
     "name": "stdout",
     "output_type": "stream",
     "text": [
      "55.07\n",
      "21.22\n",
      "20.7\n",
      "3.01\n"
     ]
    }
   ],
   "source": [
    "# Para cada valor de estado no dicionário estados, está sendo calculada a porcentagem que esse valor representa no total\n",
    "porcentagens = []\n",
    "for values in estados:\n",
    "    percen = (estados[values]/ total) * 100\n",
    "    porcentagens.append(percen.round(2))\n",
    "    print(percen.round(2))"
   ]
  },
  {
   "cell_type": "code",
   "execution_count": 42,
   "metadata": {},
   "outputs": [
    {
     "data": {
      "text/plain": [
       "[55.07, 21.22, 20.7, 3.01]"
      ]
     },
     "execution_count": 42,
     "metadata": {},
     "output_type": "execute_result"
    }
   ],
   "source": [
    "# as porcentagens foram armazenadas em uma lista de nome, porcentagens\n",
    "porcentagens"
   ]
  },
  {
   "cell_type": "code",
   "execution_count": 43,
   "metadata": {},
   "outputs": [
    {
     "data": {
      "image/png": "[encoded data removed]",
      "text/plain": [
       "<Figure size 576x396 with 1 Axes>"
      ]
     },
     "metadata": {},
     "output_type": "display_data"
    }
   ],
   "source": [
    "# Gráfico de pizza\n",
    "uf = list(estados.keys())\n",
    "fig = plt.figure()\n",
    "ax = fig.add_axes([0,0,1,1])\n",
    "ax.axis('equal')\n",
    "cores = ['dodgerblue', 'limegreen', 'firebrick', 'hotpink']\n",
    "ax.pie(porcentagens, labels = uf, autopct='%1.2f%%', startangle=90, colors=cores, labeldistance=None,\n",
    "       textprops=dict(color=\"w\", fontweight='bold', fontsize=15))\n",
    "      \n",
    "plt.title('Porcentagens de Ocorrências nos Estados do Sudeste', fontsize=20,  fontweight='bold', loc='center')\n",
    "plt.legend(title='Estados',title_fontsize=15, fontsize=15, bbox_to_anchor=(1.1, 0.9), loc='best')\n",
    "\n",
    "plt.show()"
   ]
  },
  {
   "cell_type": "markdown",
   "metadata": {},
   "source": [
    "**São Paulo foi o estado da região sudeste que mais teve ocorrências.**"
   ]
  },
  {
   "cell_type": "code",
   "execution_count": 44,
   "metadata": {},
   "outputs": [
    {
     "name": "stderr",
     "output_type": "stream",
     "text": [
      "<ipython-input-44-7b5037289413>:2: SettingWithCopyWarning: \n",
      "A value is trying to be set on a copy of a slice from a DataFrame.\n",
      "Try using .loc[row_indexer,col_indexer] = value instead\n",
      "\n",
      "See the caveats in the documentation: https://pandas.pydata.org/pandas-docs/stable/user_guide/indexing.html#returning-a-view-versus-a-copy\n",
      "  df_sudeste['Ano'] = df.ocorrencia_dia.dt.year\n"
     ]
    }
   ],
   "source": [
    "# Criando uma nova coluna chamada Ano\n",
    "df_sudeste['Ano'] = df.ocorrencia_dia.dt.year"
   ]
  },
  {
   "cell_type": "code",
   "execution_count": 45,
   "metadata": {},
   "outputs": [
    {
     "data": {
      "text/html": [
       "<div>\n",
       "<style scoped>\n",
       "    .dataframe tbody tr th:only-of-type {\n",
       "        vertical-align: middle;\n",
       "    }\n",
       "\n",
       "    .dataframe tbody tr th {\n",
       "        vertical-align: top;\n",
       "    }\n",
       "\n",
       "    .dataframe thead th {\n",
       "        text-align: right;\n",
       "    }\n",
       "</style>\n",
       "<table border=\"1\" class=\"dataframe\">\n",
       "  <thead>\n",
       "    <tr style=\"text-align: right;\">\n",
       "      <th></th>\n",
       "      <th>codigo_ocorrencia</th>\n",
       "      <th>codigo_ocorrencia2</th>\n",
       "      <th>ocorrencia_classificacao</th>\n",
       "      <th>ocorrencia_cidade</th>\n",
       "      <th>ocorrencia_uf</th>\n",
       "      <th>ocorrencia_aerodromo</th>\n",
       "      <th>ocorrencia_dia</th>\n",
       "      <th>ocorrencia_hora</th>\n",
       "      <th>total_recomendacoes</th>\n",
       "      <th>Ano</th>\n",
       "    </tr>\n",
       "  </thead>\n",
       "  <tbody>\n",
       "    <tr>\n",
       "      <th>0</th>\n",
       "      <td>40211</td>\n",
       "      <td>40211</td>\n",
       "      <td>INCIDENTE</td>\n",
       "      <td>RIO DE JANEIRO</td>\n",
       "      <td>RJ</td>\n",
       "      <td>&lt;NA&gt;</td>\n",
       "      <td>2010-01-03</td>\n",
       "      <td>12:00:00</td>\n",
       "      <td>0</td>\n",
       "      <td>2010</td>\n",
       "    </tr>\n",
       "    <tr>\n",
       "      <th>2</th>\n",
       "      <td>40351</td>\n",
       "      <td>40351</td>\n",
       "      <td>INCIDENTE</td>\n",
       "      <td>RIO DE JANEIRO</td>\n",
       "      <td>RJ</td>\n",
       "      <td>SBRJ</td>\n",
       "      <td>2010-01-03</td>\n",
       "      <td>03:00:00</td>\n",
       "      <td>0</td>\n",
       "      <td>2010</td>\n",
       "    </tr>\n",
       "    <tr>\n",
       "      <th>9</th>\n",
       "      <td>39711</td>\n",
       "      <td>39711</td>\n",
       "      <td>INCIDENTE GRAVE</td>\n",
       "      <td>PARÁ DE MINAS</td>\n",
       "      <td>MG</td>\n",
       "      <td>&lt;NA&gt;</td>\n",
       "      <td>2010-01-10</td>\n",
       "      <td>20:00:00</td>\n",
       "      <td>0</td>\n",
       "      <td>2010</td>\n",
       "    </tr>\n",
       "    <tr>\n",
       "      <th>11</th>\n",
       "      <td>40069</td>\n",
       "      <td>40069</td>\n",
       "      <td>ACIDENTE</td>\n",
       "      <td>SÃO PAULO</td>\n",
       "      <td>SP</td>\n",
       "      <td>SBMT</td>\n",
       "      <td>2010-01-10</td>\n",
       "      <td>14:50:00</td>\n",
       "      <td>8</td>\n",
       "      <td>2010</td>\n",
       "    </tr>\n",
       "    <tr>\n",
       "      <th>16</th>\n",
       "      <td>39809</td>\n",
       "      <td>39809</td>\n",
       "      <td>INCIDENTE</td>\n",
       "      <td>SÃO PAULO</td>\n",
       "      <td>SP</td>\n",
       "      <td>&lt;NA&gt;</td>\n",
       "      <td>2010-01-15</td>\n",
       "      <td>15:00:00</td>\n",
       "      <td>0</td>\n",
       "      <td>2010</td>\n",
       "    </tr>\n",
       "  </tbody>\n",
       "</table>\n",
       "</div>"
      ],
      "text/plain": [
       "    codigo_ocorrencia  codigo_ocorrencia2 ocorrencia_classificacao  \\\n",
       "0               40211               40211                INCIDENTE   \n",
       "2               40351               40351                INCIDENTE   \n",
       "9               39711               39711          INCIDENTE GRAVE   \n",
       "11              40069               40069                 ACIDENTE   \n",
       "16              39809               39809                INCIDENTE   \n",
       "\n",
       "   ocorrencia_cidade ocorrencia_uf ocorrencia_aerodromo ocorrencia_dia  \\\n",
       "0     RIO DE JANEIRO            RJ                 <NA>     2010-01-03   \n",
       "2     RIO DE JANEIRO            RJ                 SBRJ     2010-01-03   \n",
       "9      PARÁ DE MINAS            MG                 <NA>     2010-01-10   \n",
       "11         SÃO PAULO            SP                 SBMT     2010-01-10   \n",
       "16         SÃO PAULO            SP                 <NA>     2010-01-15   \n",
       "\n",
       "   ocorrencia_hora  total_recomendacoes   Ano  \n",
       "0         12:00:00                    0  2010  \n",
       "2         03:00:00                    0  2010  \n",
       "9         20:00:00                    0  2010  \n",
       "11        14:50:00                    8  2010  \n",
       "16        15:00:00                    0  2010  "
      ]
     },
     "execution_count": 45,
     "metadata": {},
     "output_type": "execute_result"
    }
   ],
   "source": [
    "df_sudeste.head()"
   ]
  },
  {
   "cell_type": "markdown",
   "metadata": {},
   "source": [
    "Com a coluna Ano criada agora podemos fazer uma análise da progressão da quantidade de ocorrências ao longo do tempo."
   ]
  },
  {
   "cell_type": "code",
   "execution_count": 46,
   "metadata": {},
   "outputs": [
    {
     "data": {
      "text/plain": [
       "2012    304\n",
       "2013    304\n",
       "2011    262\n",
       "2014    234\n",
       "2010    228\n",
       "2020    223\n",
       "2015    207\n",
       "2019    205\n",
       "2018    195\n",
       "2017    172\n",
       "2016    159\n",
       "Name: Ano, dtype: int64"
      ]
     },
     "execution_count": 46,
     "metadata": {},
     "output_type": "execute_result"
    }
   ],
   "source": [
    "df_sudeste['Ano'].value_counts().sort_values(ascending=False)"
   ]
  },
  {
   "cell_type": "code",
   "execution_count": 47,
   "metadata": {},
   "outputs": [],
   "source": [
    "valores = df_sudeste['Ano'].value_counts()"
   ]
  },
  {
   "cell_type": "code",
   "execution_count": 48,
   "metadata": {},
   "outputs": [],
   "source": [
    "anos=[2010, 2011, 2012, 2013, 2014, 2015, 2016, 2017, 2018, 2019, 2020]"
   ]
  },
  {
   "cell_type": "code",
   "execution_count": 49,
   "metadata": {},
   "outputs": [
    {
     "data": {
      "image/png": "[encoded data removed]",
      "text/plain": [
       "<Figure size 1440x576 with 2 Axes>"
      ]
     },
     "metadata": {},
     "output_type": "display_data"
    }
   ],
   "source": [
    "# ocorrencias na região sudeste ao longo dos anos\n",
    "\n",
    "fig, axes = plt.subplots(nrows=1, ncols=2, squeeze = False, figsize=(20,8))\n",
    "fig.subplots_adjust(hspace=0.8, wspace=0.5)\n",
    "\n",
    "#Gráfico 1 - Barras\n",
    "valores.loc[anos].plot.bar(ax=axes[0][0], color='salmon', fontsize=15)\n",
    "axes[0][0].set_title('Ocorrências por Ano na região sudeste',fontsize=20, position=(1.2, 1.1))\n",
    "axes[0][0].set_xlabel('Ano', fontsize=15)\n",
    "axes[0][0].set_xticklabels(labels= anos, rotation='horizontal')\n",
    "axes[0][0].set_ylabel('Quantidade Ocorrência', fontsize=15)\n",
    "\n",
    "#Gráfico 2 - Linha\n",
    "labelx=[2010, 2012, 2014, 2016, 2018, 2020]\n",
    "valores.loc[anos].plot(ax=axes[0][1],color='salmon', fontsize=15)\n",
    "axes[0][1].set_xlabel('Ano', fontsize=15)\n",
    "axes[0][1].set_ylabel('Quantidade Ocorrência', fontsize=15);\n",
    "\n"
   ]
  },
  {
   "cell_type": "markdown",
   "metadata": {},
   "source": [
    "**Podemos observar com esse dois tipos de gráficos que os anos de 2012 e 2013, foram os que tiveram o maior número de ocorrências na região Sudeste.**"
   ]
  },
  {
   "cell_type": "markdown",
   "metadata": {},
   "source": [
    "### Região Nordeste"
   ]
  },
  {
   "cell_type": "code",
   "execution_count": 50,
   "metadata": {},
   "outputs": [
    {
     "name": "stdout",
     "output_type": "stream",
     "text": [
      "<class 'pandas.core.frame.DataFrame'>\n",
      "Int64Index: 608 entries, 5 to 5738\n",
      "Data columns (total 9 columns):\n",
      " #   Column                    Non-Null Count  Dtype         \n",
      "---  ------                    --------------  -----         \n",
      " 0   codigo_ocorrencia         608 non-null    int64         \n",
      " 1   codigo_ocorrencia2        608 non-null    int64         \n",
      " 2   ocorrencia_classificacao  608 non-null    object        \n",
      " 3   ocorrencia_cidade         608 non-null    object        \n",
      " 4   ocorrencia_uf             608 non-null    object        \n",
      " 5   ocorrencia_aerodromo      370 non-null    object        \n",
      " 6   ocorrencia_dia            608 non-null    datetime64[ns]\n",
      " 7   ocorrencia_hora           608 non-null    object        \n",
      " 8   total_recomendacoes       608 non-null    int64         \n",
      "dtypes: datetime64[ns](1), int64(3), object(5)\n",
      "memory usage: 47.5+ KB\n"
     ]
    }
   ],
   "source": [
    "df_nordeste.info()"
   ]
  },
  {
   "cell_type": "code",
   "execution_count": 51,
   "metadata": {},
   "outputs": [
    {
     "data": {
      "text/html": [
       "<div>\n",
       "<style scoped>\n",
       "    .dataframe tbody tr th:only-of-type {\n",
       "        vertical-align: middle;\n",
       "    }\n",
       "\n",
       "    .dataframe tbody tr th {\n",
       "        vertical-align: top;\n",
       "    }\n",
       "\n",
       "    .dataframe thead th {\n",
       "        text-align: right;\n",
       "    }\n",
       "</style>\n",
       "<table border=\"1\" class=\"dataframe\">\n",
       "  <thead>\n",
       "    <tr style=\"text-align: right;\">\n",
       "      <th></th>\n",
       "      <th>codigo_ocorrencia</th>\n",
       "      <th>codigo_ocorrencia2</th>\n",
       "      <th>ocorrencia_classificacao</th>\n",
       "      <th>ocorrencia_cidade</th>\n",
       "      <th>ocorrencia_uf</th>\n",
       "      <th>ocorrencia_aerodromo</th>\n",
       "      <th>ocorrencia_dia</th>\n",
       "      <th>ocorrencia_hora</th>\n",
       "      <th>total_recomendacoes</th>\n",
       "    </tr>\n",
       "  </thead>\n",
       "  <tbody>\n",
       "    <tr>\n",
       "      <th>5</th>\n",
       "      <td>39807</td>\n",
       "      <td>39807</td>\n",
       "      <td>INCIDENTE</td>\n",
       "      <td>SALVADOR</td>\n",
       "      <td>BA</td>\n",
       "      <td>&lt;NA&gt;</td>\n",
       "      <td>2010-01-06</td>\n",
       "      <td>17:53:00</td>\n",
       "      <td>0</td>\n",
       "    </tr>\n",
       "    <tr>\n",
       "      <th>17</th>\n",
       "      <td>39810</td>\n",
       "      <td>39810</td>\n",
       "      <td>INCIDENTE</td>\n",
       "      <td>SALVADOR</td>\n",
       "      <td>BA</td>\n",
       "      <td>&lt;NA&gt;</td>\n",
       "      <td>2010-01-15</td>\n",
       "      <td>18:23:00</td>\n",
       "      <td>0</td>\n",
       "    </tr>\n",
       "    <tr>\n",
       "      <th>42</th>\n",
       "      <td>39747</td>\n",
       "      <td>39747</td>\n",
       "      <td>INCIDENTE</td>\n",
       "      <td>CAIRU</td>\n",
       "      <td>BA</td>\n",
       "      <td>SNCL</td>\n",
       "      <td>2010-01-31</td>\n",
       "      <td>19:47:00</td>\n",
       "      <td>4</td>\n",
       "    </tr>\n",
       "    <tr>\n",
       "      <th>47</th>\n",
       "      <td>39176</td>\n",
       "      <td>39176</td>\n",
       "      <td>INCIDENTE</td>\n",
       "      <td>SÃO LUÍS</td>\n",
       "      <td>MA</td>\n",
       "      <td>&lt;NA&gt;</td>\n",
       "      <td>2010-02-05</td>\n",
       "      <td>09:30:00</td>\n",
       "      <td>0</td>\n",
       "    </tr>\n",
       "    <tr>\n",
       "      <th>51</th>\n",
       "      <td>39115</td>\n",
       "      <td>39115</td>\n",
       "      <td>ACIDENTE</td>\n",
       "      <td>CORRENTINA</td>\n",
       "      <td>BA</td>\n",
       "      <td>SNTY</td>\n",
       "      <td>2010-02-07</td>\n",
       "      <td>17:40:00</td>\n",
       "      <td>2</td>\n",
       "    </tr>\n",
       "  </tbody>\n",
       "</table>\n",
       "</div>"
      ],
      "text/plain": [
       "    codigo_ocorrencia  codigo_ocorrencia2 ocorrencia_classificacao  \\\n",
       "5               39807               39807                INCIDENTE   \n",
       "17              39810               39810                INCIDENTE   \n",
       "42              39747               39747                INCIDENTE   \n",
       "47              39176               39176                INCIDENTE   \n",
       "51              39115               39115                 ACIDENTE   \n",
       "\n",
       "   ocorrencia_cidade ocorrencia_uf ocorrencia_aerodromo ocorrencia_dia  \\\n",
       "5           SALVADOR            BA                 <NA>     2010-01-06   \n",
       "17          SALVADOR            BA                 <NA>     2010-01-15   \n",
       "42             CAIRU            BA                 SNCL     2010-01-31   \n",
       "47          SÃO LUÍS            MA                 <NA>     2010-02-05   \n",
       "51        CORRENTINA            BA                 SNTY     2010-02-07   \n",
       "\n",
       "   ocorrencia_hora  total_recomendacoes  \n",
       "5         17:53:00                    0  \n",
       "17        18:23:00                    0  \n",
       "42        19:47:00                    4  \n",
       "47        09:30:00                    0  \n",
       "51        17:40:00                    2  "
      ]
     },
     "execution_count": 51,
     "metadata": {},
     "output_type": "execute_result"
    }
   ],
   "source": [
    "df_nordeste.head()"
   ]
  },
  {
   "cell_type": "code",
   "execution_count": 52,
   "metadata": {},
   "outputs": [
    {
     "data": {
      "text/plain": [
       "BA    213\n",
       "PE     98\n",
       "CE     88\n",
       "MA     75\n",
       "PI     40\n",
       "AL     33\n",
       "PB     24\n",
       "SE     21\n",
       "RN     16\n",
       "Name: ocorrencia_uf, dtype: int64"
      ]
     },
     "execution_count": 52,
     "metadata": {},
     "output_type": "execute_result"
    }
   ],
   "source": [
    "#quantidade de ocorrências por estados da região nordeste\n",
    "df_nordeste['ocorrencia_uf'].value_counts()"
   ]
  },
  {
   "cell_type": "code",
   "execution_count": 53,
   "metadata": {},
   "outputs": [
    {
     "data": {
      "image/png": "[encoded data removed]",
      "text/plain": [
       "<Figure size 576x396 with 1 Axes>"
      ]
     },
     "metadata": {},
     "output_type": "display_data"
    }
   ],
   "source": [
    "# Gráfico de barras da quantidade de ocorrências por estados da região nordeste\n",
    "df_nordeste['ocorrencia_uf'].value_counts().plot.bar(color='salmon', fontsize=15);\n",
    "plt.title('Ocorrências por Estado - Nordeste',fontsize=20)\n",
    "plt.xlabel('Estados', fontsize=15)\n",
    "plt.xticks(rotation='horizontal', fontweight='bold')\n",
    "plt.ylabel('Quantidade Ocorrência', fontsize=15);"
   ]
  },
  {
   "cell_type": "markdown",
   "metadata": {},
   "source": [
    "**O estado com maior número de ocorrências da região nordeste foi a Bahia.**"
   ]
  },
  {
   "cell_type": "code",
   "execution_count": 54,
   "metadata": {},
   "outputs": [
    {
     "name": "stdout",
     "output_type": "stream",
     "text": [
      "608\n",
      "{'BA': 213, 'PE': 98, 'CE': 88, 'MA': 75, 'PI': 40, 'AL': 33, 'PB': 24, 'SE': 21, 'RN': 16}\n"
     ]
    }
   ],
   "source": [
    "# Visualização dos resultados em porentagem\n",
    "\n",
    "#primeiro vamos guardar o total de valores em uma variável - total\n",
    "total = df_nordeste['ocorrencia_uf'].count()\n",
    "\n",
    "# Agora vamos separar em um dicionário os valores de ocorrências individuais de cada estado \n",
    "estados = dict(df_nordeste['ocorrencia_uf'].value_counts())\n",
    "\n",
    "print(total)\n",
    "print(estados)"
   ]
  },
  {
   "cell_type": "code",
   "execution_count": 55,
   "metadata": {},
   "outputs": [
    {
     "name": "stdout",
     "output_type": "stream",
     "text": [
      "35.03\n",
      "16.12\n",
      "14.47\n",
      "12.34\n",
      "6.58\n",
      "5.43\n",
      "3.95\n",
      "3.45\n",
      "2.63\n",
      "Porcentagens: [35.03, 16.12, 14.47, 12.34, 6.58, 5.43, 3.95, 3.45, 2.63]\n"
     ]
    }
   ],
   "source": [
    "# Para cada valor de estado no dicionário estados, está sendo calculada a porcentagem que esse valor representa no total\n",
    "porcentagens = []\n",
    "for values in estados:\n",
    "    percen = (estados[values]/ total) * 100\n",
    "    porcentagens.append(percen.round(2))\n",
    "    print(percen.round(2))\n",
    "# as porcentagens foram armazenadas em uma lista de nome, porcentagens\n",
    "print('Porcentagens:',porcentagens)"
   ]
  },
  {
   "cell_type": "code",
   "execution_count": 56,
   "metadata": {},
   "outputs": [
    {
     "data": {
      "image/png": "[encoded data removed]",
      "text/plain": [
       "<Figure size 576x396 with 1 Axes>"
      ]
     },
     "metadata": {},
     "output_type": "display_data"
    }
   ],
   "source": [
    "# Gráfico de pizza\n",
    "uf = list(estados.keys())\n",
    "fig = plt.figure()\n",
    "ax = fig.add_axes([0,0,1,1])\n",
    "ax.axis('equal')\n",
    "cores = ['dodgerblue', 'limegreen', 'firebrick', 'hotpink', 'dimgrey', 'darkviolet', 'yellow', 'chocolate', 'orange']\n",
    "ax.pie(porcentagens, labels = uf, autopct='%1.2f%%', pctdistance=1.15, startangle=90, colors=cores, labeldistance=None,\n",
    "       textprops=dict(color=\"black\", fontweight='bold', fontsize=15, horizontalalignment=\"center\", rotation=45))\n",
    "      \n",
    "plt.title('Porcentagens de Ocorrências nos Estados do Norteste', fontsize=20,  fontweight='bold', loc='center',position=(0.5, 1.1))\n",
    "plt.legend(title='Estados',title_fontsize=15, fontsize=15, bbox_to_anchor=(1.1, 0.9), loc='best')\n",
    "\n",
    "plt.show()"
   ]
  },
  {
   "cell_type": "markdown",
   "metadata": {},
   "source": [
    "**Os Estados como maior número de ocorrências:**\n",
    "* Bahia\n",
    "* Pernambuco\n",
    "* Ceará\n"
   ]
  },
  {
   "cell_type": "code",
   "execution_count": 57,
   "metadata": {},
   "outputs": [
    {
     "name": "stderr",
     "output_type": "stream",
     "text": [
      "<ipython-input-57-023acdc49afb>:3: SettingWithCopyWarning: \n",
      "A value is trying to be set on a copy of a slice from a DataFrame.\n",
      "Try using .loc[row_indexer,col_indexer] = value instead\n",
      "\n",
      "See the caveats in the documentation: https://pandas.pydata.org/pandas-docs/stable/user_guide/indexing.html#returning-a-view-versus-a-copy\n",
      "  df_nordeste['Ano'] = df.ocorrencia_dia.dt.year\n"
     ]
    }
   ],
   "source": [
    "# Vamos fazer a análise das ocorrências ao longo dos anos.\n",
    "# Criando a coluna Ano para o df_nordeste\n",
    "df_nordeste['Ano'] = df.ocorrencia_dia.dt.year"
   ]
  },
  {
   "cell_type": "code",
   "execution_count": 58,
   "metadata": {},
   "outputs": [
    {
     "data": {
      "text/html": [
       "<div>\n",
       "<style scoped>\n",
       "    .dataframe tbody tr th:only-of-type {\n",
       "        vertical-align: middle;\n",
       "    }\n",
       "\n",
       "    .dataframe tbody tr th {\n",
       "        vertical-align: top;\n",
       "    }\n",
       "\n",
       "    .dataframe thead th {\n",
       "        text-align: right;\n",
       "    }\n",
       "</style>\n",
       "<table border=\"1\" class=\"dataframe\">\n",
       "  <thead>\n",
       "    <tr style=\"text-align: right;\">\n",
       "      <th></th>\n",
       "      <th>codigo_ocorrencia</th>\n",
       "      <th>codigo_ocorrencia2</th>\n",
       "      <th>ocorrencia_classificacao</th>\n",
       "      <th>ocorrencia_cidade</th>\n",
       "      <th>ocorrencia_uf</th>\n",
       "      <th>ocorrencia_aerodromo</th>\n",
       "      <th>ocorrencia_dia</th>\n",
       "      <th>ocorrencia_hora</th>\n",
       "      <th>total_recomendacoes</th>\n",
       "      <th>Ano</th>\n",
       "    </tr>\n",
       "  </thead>\n",
       "  <tbody>\n",
       "    <tr>\n",
       "      <th>5</th>\n",
       "      <td>39807</td>\n",
       "      <td>39807</td>\n",
       "      <td>INCIDENTE</td>\n",
       "      <td>SALVADOR</td>\n",
       "      <td>BA</td>\n",
       "      <td>&lt;NA&gt;</td>\n",
       "      <td>2010-01-06</td>\n",
       "      <td>17:53:00</td>\n",
       "      <td>0</td>\n",
       "      <td>2010</td>\n",
       "    </tr>\n",
       "    <tr>\n",
       "      <th>17</th>\n",
       "      <td>39810</td>\n",
       "      <td>39810</td>\n",
       "      <td>INCIDENTE</td>\n",
       "      <td>SALVADOR</td>\n",
       "      <td>BA</td>\n",
       "      <td>&lt;NA&gt;</td>\n",
       "      <td>2010-01-15</td>\n",
       "      <td>18:23:00</td>\n",
       "      <td>0</td>\n",
       "      <td>2010</td>\n",
       "    </tr>\n",
       "    <tr>\n",
       "      <th>42</th>\n",
       "      <td>39747</td>\n",
       "      <td>39747</td>\n",
       "      <td>INCIDENTE</td>\n",
       "      <td>CAIRU</td>\n",
       "      <td>BA</td>\n",
       "      <td>SNCL</td>\n",
       "      <td>2010-01-31</td>\n",
       "      <td>19:47:00</td>\n",
       "      <td>4</td>\n",
       "      <td>2010</td>\n",
       "    </tr>\n",
       "    <tr>\n",
       "      <th>47</th>\n",
       "      <td>39176</td>\n",
       "      <td>39176</td>\n",
       "      <td>INCIDENTE</td>\n",
       "      <td>SÃO LUÍS</td>\n",
       "      <td>MA</td>\n",
       "      <td>&lt;NA&gt;</td>\n",
       "      <td>2010-02-05</td>\n",
       "      <td>09:30:00</td>\n",
       "      <td>0</td>\n",
       "      <td>2010</td>\n",
       "    </tr>\n",
       "    <tr>\n",
       "      <th>51</th>\n",
       "      <td>39115</td>\n",
       "      <td>39115</td>\n",
       "      <td>ACIDENTE</td>\n",
       "      <td>CORRENTINA</td>\n",
       "      <td>BA</td>\n",
       "      <td>SNTY</td>\n",
       "      <td>2010-02-07</td>\n",
       "      <td>17:40:00</td>\n",
       "      <td>2</td>\n",
       "      <td>2010</td>\n",
       "    </tr>\n",
       "  </tbody>\n",
       "</table>\n",
       "</div>"
      ],
      "text/plain": [
       "    codigo_ocorrencia  codigo_ocorrencia2 ocorrencia_classificacao  \\\n",
       "5               39807               39807                INCIDENTE   \n",
       "17              39810               39810                INCIDENTE   \n",
       "42              39747               39747                INCIDENTE   \n",
       "47              39176               39176                INCIDENTE   \n",
       "51              39115               39115                 ACIDENTE   \n",
       "\n",
       "   ocorrencia_cidade ocorrencia_uf ocorrencia_aerodromo ocorrencia_dia  \\\n",
       "5           SALVADOR            BA                 <NA>     2010-01-06   \n",
       "17          SALVADOR            BA                 <NA>     2010-01-15   \n",
       "42             CAIRU            BA                 SNCL     2010-01-31   \n",
       "47          SÃO LUÍS            MA                 <NA>     2010-02-05   \n",
       "51        CORRENTINA            BA                 SNTY     2010-02-07   \n",
       "\n",
       "   ocorrencia_hora  total_recomendacoes   Ano  \n",
       "5         17:53:00                    0  2010  \n",
       "17        18:23:00                    0  2010  \n",
       "42        19:47:00                    4  2010  \n",
       "47        09:30:00                    0  2010  \n",
       "51        17:40:00                    2  2010  "
      ]
     },
     "execution_count": 58,
     "metadata": {},
     "output_type": "execute_result"
    }
   ],
   "source": [
    "df_nordeste.head()"
   ]
  },
  {
   "cell_type": "code",
   "execution_count": 59,
   "metadata": {},
   "outputs": [
    {
     "data": {
      "text/plain": [
       "2010    76\n",
       "2012    67\n",
       "2014    67\n",
       "2018    60\n",
       "2013    57\n",
       "2011    55\n",
       "2015    52\n",
       "2019    50\n",
       "2020    48\n",
       "2016    42\n",
       "2017    34\n",
       "Name: Ano, dtype: int64"
      ]
     },
     "execution_count": 59,
     "metadata": {},
     "output_type": "execute_result"
    }
   ],
   "source": [
    "# Números de ocorrências no nordeste por ano\n",
    "df_nordeste['Ano'].value_counts().sort_values(ascending=False)"
   ]
  },
  {
   "cell_type": "code",
   "execution_count": 60,
   "metadata": {},
   "outputs": [],
   "source": [
    "valores = df_nordeste['Ano'].value_counts()\n",
    "anos=[2010, 2011, 2012, 2013, 2014, 2015, 2016, 2017, 2018, 2019, 2020]"
   ]
  },
  {
   "cell_type": "code",
   "execution_count": 61,
   "metadata": {},
   "outputs": [
    {
     "data": {
      "image/png": "[encoded data removed]",
      "text/plain": [
       "<Figure size 1440x576 with 2 Axes>"
      ]
     },
     "metadata": {},
     "output_type": "display_data"
    }
   ],
   "source": [
    "# ocorrencias na região nordeste ao longo dos anos\n",
    "fig, axes = plt.subplots(nrows=1, ncols=2, squeeze = False, figsize=(20,8))\n",
    "fig.subplots_adjust(hspace=0.8, wspace=0.5)\n",
    "\n",
    "\n",
    "#Gráfico 1 - Barras\n",
    "valores.loc[anos].plot.bar(ax=axes[0][0], color='salmon', fontsize=15)\n",
    "axes[0][0].set_title('Ocorrências por Ano na região Nordeste',fontsize=20, position=(1.2, 1.1))\n",
    "axes[0][0].set_xlabel('Ano', fontsize=15)\n",
    "axes[0][0].set_xticklabels(labels= anos, rotation='horizontal')\n",
    "axes[0][0].set_ylabel('Quantidade Ocorrência', fontsize=15)\n",
    "\n",
    "#Gráfico 2 - Linha\n",
    "labelx=[2010, 2012, 2014, 2016, 2018, 2020]\n",
    "valores.loc[anos].plot(ax=axes[0][1],color='salmon', fontsize=15)\n",
    "axes[0][1].set_xlabel('Ano', fontsize=15)\n",
    "axes[0][1].set_ylabel('Quantidade Ocorrência', fontsize=15);\n",
    "\n"
   ]
  },
  {
   "cell_type": "markdown",
   "metadata": {},
   "source": [
    "**Podemos observar com esse dois tipos de gráficos que os anos de 2010, 2012 e 2014, foram os que tiveram o maior número de ocorrências na região Nordeste.**"
   ]
  },
  {
   "cell_type": "markdown",
   "metadata": {},
   "source": [
    "### Região Centro-Oeste"
   ]
  },
  {
   "cell_type": "code",
   "execution_count": 62,
   "metadata": {},
   "outputs": [
    {
     "data": {
      "text/html": [
       "<div>\n",
       "<style scoped>\n",
       "    .dataframe tbody tr th:only-of-type {\n",
       "        vertical-align: middle;\n",
       "    }\n",
       "\n",
       "    .dataframe tbody tr th {\n",
       "        vertical-align: top;\n",
       "    }\n",
       "\n",
       "    .dataframe thead th {\n",
       "        text-align: right;\n",
       "    }\n",
       "</style>\n",
       "<table border=\"1\" class=\"dataframe\">\n",
       "  <thead>\n",
       "    <tr style=\"text-align: right;\">\n",
       "      <th></th>\n",
       "      <th>codigo_ocorrencia</th>\n",
       "      <th>codigo_ocorrencia2</th>\n",
       "      <th>ocorrencia_classificacao</th>\n",
       "      <th>ocorrencia_cidade</th>\n",
       "      <th>ocorrencia_uf</th>\n",
       "      <th>ocorrencia_aerodromo</th>\n",
       "      <th>ocorrencia_dia</th>\n",
       "      <th>ocorrencia_hora</th>\n",
       "      <th>total_recomendacoes</th>\n",
       "    </tr>\n",
       "  </thead>\n",
       "  <tbody>\n",
       "    <tr>\n",
       "      <th>3</th>\n",
       "      <td>39527</td>\n",
       "      <td>39527</td>\n",
       "      <td>ACIDENTE</td>\n",
       "      <td>LUCAS DO RIO VERDE</td>\n",
       "      <td>MT</td>\n",
       "      <td>&lt;NA&gt;</td>\n",
       "      <td>2010-01-04</td>\n",
       "      <td>17:30:00</td>\n",
       "      <td>0</td>\n",
       "    </tr>\n",
       "    <tr>\n",
       "      <th>12</th>\n",
       "      <td>40414</td>\n",
       "      <td>40414</td>\n",
       "      <td>INCIDENTE</td>\n",
       "      <td>BRASÍLIA</td>\n",
       "      <td>DF</td>\n",
       "      <td>SBBR</td>\n",
       "      <td>2010-01-10</td>\n",
       "      <td>03:00:00</td>\n",
       "      <td>0</td>\n",
       "    </tr>\n",
       "    <tr>\n",
       "      <th>13</th>\n",
       "      <td>39507</td>\n",
       "      <td>39507</td>\n",
       "      <td>ACIDENTE</td>\n",
       "      <td>PRIMAVERA DO LESTE</td>\n",
       "      <td>MT</td>\n",
       "      <td>&lt;NA&gt;</td>\n",
       "      <td>2010-01-11</td>\n",
       "      <td>17:00:00</td>\n",
       "      <td>2</td>\n",
       "    </tr>\n",
       "    <tr>\n",
       "      <th>28</th>\n",
       "      <td>39321</td>\n",
       "      <td>39321</td>\n",
       "      <td>ACIDENTE</td>\n",
       "      <td>PONTES E LACERDA</td>\n",
       "      <td>MT</td>\n",
       "      <td>&lt;NA&gt;</td>\n",
       "      <td>2010-01-23</td>\n",
       "      <td>13:00:00</td>\n",
       "      <td>2</td>\n",
       "    </tr>\n",
       "    <tr>\n",
       "      <th>43</th>\n",
       "      <td>39787</td>\n",
       "      <td>39787</td>\n",
       "      <td>INCIDENTE</td>\n",
       "      <td>GOIÂNIA</td>\n",
       "      <td>GO</td>\n",
       "      <td>SBGO</td>\n",
       "      <td>2010-01-31</td>\n",
       "      <td>21:00:00</td>\n",
       "      <td>0</td>\n",
       "    </tr>\n",
       "  </tbody>\n",
       "</table>\n",
       "</div>"
      ],
      "text/plain": [
       "    codigo_ocorrencia  codigo_ocorrencia2 ocorrencia_classificacao  \\\n",
       "3               39527               39527                 ACIDENTE   \n",
       "12              40414               40414                INCIDENTE   \n",
       "13              39507               39507                 ACIDENTE   \n",
       "28              39321               39321                 ACIDENTE   \n",
       "43              39787               39787                INCIDENTE   \n",
       "\n",
       "     ocorrencia_cidade ocorrencia_uf ocorrencia_aerodromo ocorrencia_dia  \\\n",
       "3   LUCAS DO RIO VERDE            MT                 <NA>     2010-01-04   \n",
       "12            BRASÍLIA            DF                 SBBR     2010-01-10   \n",
       "13  PRIMAVERA DO LESTE            MT                 <NA>     2010-01-11   \n",
       "28    PONTES E LACERDA            MT                 <NA>     2010-01-23   \n",
       "43             GOIÂNIA            GO                 SBGO     2010-01-31   \n",
       "\n",
       "   ocorrencia_hora  total_recomendacoes  \n",
       "3         17:30:00                    0  \n",
       "12        03:00:00                    0  \n",
       "13        17:00:00                    2  \n",
       "28        13:00:00                    2  \n",
       "43        21:00:00                    0  "
      ]
     },
     "execution_count": 62,
     "metadata": {},
     "output_type": "execute_result"
    }
   ],
   "source": [
    "df_centro_oeste.head()"
   ]
  },
  {
   "cell_type": "code",
   "execution_count": 63,
   "metadata": {},
   "outputs": [
    {
     "name": "stdout",
     "output_type": "stream",
     "text": [
      "<class 'pandas.core.frame.DataFrame'>\n",
      "Int64Index: 887 entries, 3 to 5750\n",
      "Data columns (total 9 columns):\n",
      " #   Column                    Non-Null Count  Dtype         \n",
      "---  ------                    --------------  -----         \n",
      " 0   codigo_ocorrencia         887 non-null    int64         \n",
      " 1   codigo_ocorrencia2        887 non-null    int64         \n",
      " 2   ocorrencia_classificacao  887 non-null    object        \n",
      " 3   ocorrencia_cidade         887 non-null    object        \n",
      " 4   ocorrencia_uf             887 non-null    object        \n",
      " 5   ocorrencia_aerodromo      429 non-null    object        \n",
      " 6   ocorrencia_dia            887 non-null    datetime64[ns]\n",
      " 7   ocorrencia_hora           886 non-null    object        \n",
      " 8   total_recomendacoes       887 non-null    int64         \n",
      "dtypes: datetime64[ns](1), int64(3), object(5)\n",
      "memory usage: 69.3+ KB\n"
     ]
    }
   ],
   "source": [
    "df_centro_oeste.info()"
   ]
  },
  {
   "cell_type": "code",
   "execution_count": 64,
   "metadata": {},
   "outputs": [
    {
     "data": {
      "text/plain": [
       "GO    309\n",
       "MT    292\n",
       "MS    151\n",
       "DF    135\n",
       "Name: ocorrencia_uf, dtype: int64"
      ]
     },
     "execution_count": 64,
     "metadata": {},
     "output_type": "execute_result"
    }
   ],
   "source": [
    "# quantidade de ocorrências por estado da região centro-oeste.\n",
    "df_centro_oeste['ocorrencia_uf'].value_counts()"
   ]
  },
  {
   "cell_type": "code",
   "execution_count": 65,
   "metadata": {},
   "outputs": [
    {
     "data": {
      "image/png": "[encoded data removed]",
      "text/plain": [
       "<Figure size 576x396 with 1 Axes>"
      ]
     },
     "metadata": {},
     "output_type": "display_data"
    }
   ],
   "source": [
    "# Gráfico de barras da quantidade de ocorrências por estados da região centro-oeste\n",
    "df_centro_oeste['ocorrencia_uf'].value_counts().plot.bar(color='salmon', fontsize=15);\n",
    "plt.title('Ocorrências por Estado - Centro-Oeste',fontsize=20)\n",
    "plt.xlabel('Estados', fontsize=15)\n",
    "plt.xticks(rotation='horizontal', fontweight='bold')\n",
    "plt.ylabel('Quantidade Ocorrência', fontsize=15);"
   ]
  },
  {
   "cell_type": "markdown",
   "metadata": {},
   "source": [
    "**Goáis e Mato Grosso são os estados da região centro-oeste com maios incidentes.**"
   ]
  },
  {
   "cell_type": "code",
   "execution_count": 66,
   "metadata": {},
   "outputs": [
    {
     "name": "stdout",
     "output_type": "stream",
     "text": [
      "887\n",
      "{'GO': 309, 'MT': 292, 'MS': 151, 'DF': 135}\n"
     ]
    }
   ],
   "source": [
    "# Visualização dos dados em porcentagem\n",
    "\n",
    "#primeiro vamos guardar o total de valores em uma variável - total\n",
    "total = df_centro_oeste['ocorrencia_uf'].count()\n",
    "\n",
    "# Agora vamos separar em um dicionário os valores de ocorrências individuais de cada estado \n",
    "estados = dict(df_centro_oeste['ocorrencia_uf'].value_counts())\n",
    "\n",
    "print(total)\n",
    "print(estados)"
   ]
  },
  {
   "cell_type": "code",
   "execution_count": 67,
   "metadata": {},
   "outputs": [
    {
     "name": "stdout",
     "output_type": "stream",
     "text": [
      "34.84\n",
      "32.92\n",
      "17.02\n",
      "15.22\n",
      "Porcentagens: [34.84, 32.92, 17.02, 15.22]\n"
     ]
    }
   ],
   "source": [
    "# Para cada valor de estado no dicionário estados, está sendo calculada a porcentagem que esse valor representa no total\n",
    "porcentagens = []\n",
    "for values in estados:\n",
    "    percen = (estados[values]/ total) * 100\n",
    "    porcentagens.append(percen.round(2))\n",
    "    print(percen.round(2))\n",
    "# as porcentagens foram armazenadas em uma lista de nome, porcentagens\n",
    "print('Porcentagens:',porcentagens)"
   ]
  },
  {
   "cell_type": "code",
   "execution_count": 68,
   "metadata": {},
   "outputs": [
    {
     "data": {
      "image/png": "[encoded data removed]",
      "text/plain": [
       "<Figure size 576x396 with 1 Axes>"
      ]
     },
     "metadata": {},
     "output_type": "display_data"
    }
   ],
   "source": [
    "# Gráfico de pizza\n",
    "uf = list(estados.keys())\n",
    "fig = plt.figure()\n",
    "ax = fig.add_axes([0,0,1,1])\n",
    "ax.axis('equal')\n",
    "cores = ['dodgerblue', 'limegreen', 'firebrick', 'hotpink']\n",
    "ax.pie(porcentagens, labels = uf, autopct='%1.2f%%', startangle=90, colors=cores, labeldistance=None,\n",
    "       textprops=dict(color=\"w\", fontweight='bold', fontsize=15))\n",
    "      \n",
    "plt.title('Porcentagens de Ocorrências nos Estados do Centro-Oeste', fontsize=20,  fontweight='bold', loc='center')\n",
    "plt.legend(title='Estados',title_fontsize=15, fontsize=15, bbox_to_anchor=(1.1, 0.9), loc='best')\n",
    "\n",
    "plt.show()"
   ]
  },
  {
   "cell_type": "code",
   "execution_count": 69,
   "metadata": {},
   "outputs": [
    {
     "name": "stderr",
     "output_type": "stream",
     "text": [
      "<ipython-input-69-8652c8d03da4>:3: SettingWithCopyWarning: \n",
      "A value is trying to be set on a copy of a slice from a DataFrame.\n",
      "Try using .loc[row_indexer,col_indexer] = value instead\n",
      "\n",
      "See the caveats in the documentation: https://pandas.pydata.org/pandas-docs/stable/user_guide/indexing.html#returning-a-view-versus-a-copy\n",
      "  df_centro_oeste['Ano'] = df.ocorrencia_dia.dt.year\n"
     ]
    }
   ],
   "source": [
    "# Análise das ocorrências ao longo dos anos na região centro-oeste\n",
    "# Criando a coluna Ano para o df_centro_oeste\n",
    "df_centro_oeste['Ano'] = df.ocorrencia_dia.dt.year"
   ]
  },
  {
   "cell_type": "code",
   "execution_count": 70,
   "metadata": {},
   "outputs": [
    {
     "data": {
      "text/html": [
       "<div>\n",
       "<style scoped>\n",
       "    .dataframe tbody tr th:only-of-type {\n",
       "        vertical-align: middle;\n",
       "    }\n",
       "\n",
       "    .dataframe tbody tr th {\n",
       "        vertical-align: top;\n",
       "    }\n",
       "\n",
       "    .dataframe thead th {\n",
       "        text-align: right;\n",
       "    }\n",
       "</style>\n",
       "<table border=\"1\" class=\"dataframe\">\n",
       "  <thead>\n",
       "    <tr style=\"text-align: right;\">\n",
       "      <th></th>\n",
       "      <th>codigo_ocorrencia</th>\n",
       "      <th>codigo_ocorrencia2</th>\n",
       "      <th>ocorrencia_classificacao</th>\n",
       "      <th>ocorrencia_cidade</th>\n",
       "      <th>ocorrencia_uf</th>\n",
       "      <th>ocorrencia_aerodromo</th>\n",
       "      <th>ocorrencia_dia</th>\n",
       "      <th>ocorrencia_hora</th>\n",
       "      <th>total_recomendacoes</th>\n",
       "      <th>Ano</th>\n",
       "    </tr>\n",
       "  </thead>\n",
       "  <tbody>\n",
       "    <tr>\n",
       "      <th>3</th>\n",
       "      <td>39527</td>\n",
       "      <td>39527</td>\n",
       "      <td>ACIDENTE</td>\n",
       "      <td>LUCAS DO RIO VERDE</td>\n",
       "      <td>MT</td>\n",
       "      <td>&lt;NA&gt;</td>\n",
       "      <td>2010-01-04</td>\n",
       "      <td>17:30:00</td>\n",
       "      <td>0</td>\n",
       "      <td>2010</td>\n",
       "    </tr>\n",
       "    <tr>\n",
       "      <th>12</th>\n",
       "      <td>40414</td>\n",
       "      <td>40414</td>\n",
       "      <td>INCIDENTE</td>\n",
       "      <td>BRASÍLIA</td>\n",
       "      <td>DF</td>\n",
       "      <td>SBBR</td>\n",
       "      <td>2010-01-10</td>\n",
       "      <td>03:00:00</td>\n",
       "      <td>0</td>\n",
       "      <td>2010</td>\n",
       "    </tr>\n",
       "    <tr>\n",
       "      <th>13</th>\n",
       "      <td>39507</td>\n",
       "      <td>39507</td>\n",
       "      <td>ACIDENTE</td>\n",
       "      <td>PRIMAVERA DO LESTE</td>\n",
       "      <td>MT</td>\n",
       "      <td>&lt;NA&gt;</td>\n",
       "      <td>2010-01-11</td>\n",
       "      <td>17:00:00</td>\n",
       "      <td>2</td>\n",
       "      <td>2010</td>\n",
       "    </tr>\n",
       "    <tr>\n",
       "      <th>28</th>\n",
       "      <td>39321</td>\n",
       "      <td>39321</td>\n",
       "      <td>ACIDENTE</td>\n",
       "      <td>PONTES E LACERDA</td>\n",
       "      <td>MT</td>\n",
       "      <td>&lt;NA&gt;</td>\n",
       "      <td>2010-01-23</td>\n",
       "      <td>13:00:00</td>\n",
       "      <td>2</td>\n",
       "      <td>2010</td>\n",
       "    </tr>\n",
       "    <tr>\n",
       "      <th>43</th>\n",
       "      <td>39787</td>\n",
       "      <td>39787</td>\n",
       "      <td>INCIDENTE</td>\n",
       "      <td>GOIÂNIA</td>\n",
       "      <td>GO</td>\n",
       "      <td>SBGO</td>\n",
       "      <td>2010-01-31</td>\n",
       "      <td>21:00:00</td>\n",
       "      <td>0</td>\n",
       "      <td>2010</td>\n",
       "    </tr>\n",
       "  </tbody>\n",
       "</table>\n",
       "</div>"
      ],
      "text/plain": [
       "    codigo_ocorrencia  codigo_ocorrencia2 ocorrencia_classificacao  \\\n",
       "3               39527               39527                 ACIDENTE   \n",
       "12              40414               40414                INCIDENTE   \n",
       "13              39507               39507                 ACIDENTE   \n",
       "28              39321               39321                 ACIDENTE   \n",
       "43              39787               39787                INCIDENTE   \n",
       "\n",
       "     ocorrencia_cidade ocorrencia_uf ocorrencia_aerodromo ocorrencia_dia  \\\n",
       "3   LUCAS DO RIO VERDE            MT                 <NA>     2010-01-04   \n",
       "12            BRASÍLIA            DF                 SBBR     2010-01-10   \n",
       "13  PRIMAVERA DO LESTE            MT                 <NA>     2010-01-11   \n",
       "28    PONTES E LACERDA            MT                 <NA>     2010-01-23   \n",
       "43             GOIÂNIA            GO                 SBGO     2010-01-31   \n",
       "\n",
       "   ocorrencia_hora  total_recomendacoes   Ano  \n",
       "3         17:30:00                    0  2010  \n",
       "12        03:00:00                    0  2010  \n",
       "13        17:00:00                    2  2010  \n",
       "28        13:00:00                    2  2010  \n",
       "43        21:00:00                    0  2010  "
      ]
     },
     "execution_count": 70,
     "metadata": {},
     "output_type": "execute_result"
    }
   ],
   "source": [
    "df_centro_oeste.head()"
   ]
  },
  {
   "cell_type": "code",
   "execution_count": 71,
   "metadata": {},
   "outputs": [
    {
     "data": {
      "text/plain": [
       "2013    103\n",
       "2011    101\n",
       "2012     98\n",
       "2019     86\n",
       "2010     84\n",
       "2020     83\n",
       "2014     76\n",
       "2015     65\n",
       "2018     65\n",
       "2016     63\n",
       "2017     63\n",
       "Name: Ano, dtype: int64"
      ]
     },
     "execution_count": 71,
     "metadata": {},
     "output_type": "execute_result"
    }
   ],
   "source": [
    "# Número de ocorrência na região centro-oeste ao longo dos anos.\n",
    "df_centro_oeste['Ano'].value_counts().sort_values(ascending=False)"
   ]
  },
  {
   "cell_type": "code",
   "execution_count": 72,
   "metadata": {},
   "outputs": [],
   "source": [
    "valores = df_centro_oeste['Ano'].value_counts()\n",
    "anos=[2010, 2011, 2012, 2013, 2014, 2015, 2016, 2017, 2018, 2019, 2020]"
   ]
  },
  {
   "cell_type": "code",
   "execution_count": 73,
   "metadata": {},
   "outputs": [
    {
     "data": {
      "image/png": "[encoded data removed]",
      "text/plain": [
       "<Figure size 1440x576 with 2 Axes>"
      ]
     },
     "metadata": {},
     "output_type": "display_data"
    }
   ],
   "source": [
    "# ocorrencias na região centro-oeste ao longo dos anos\n",
    "fig, axes = plt.subplots(nrows=1, ncols=2, squeeze = False, figsize=(20,8))\n",
    "fig.subplots_adjust(hspace=0.8, wspace=0.5)\n",
    "\n",
    "#Gráfico 1 - Barras\n",
    "valores.loc[anos].plot.bar(ax=axes[0][0], color='salmon', fontsize=15)\n",
    "axes[0][0].set_title('Ocorrências por Ano na região Centro-Oeste',fontsize=20, position=(1.2, 1.1))\n",
    "axes[0][0].set_xlabel('Ano', fontsize=15)\n",
    "axes[0][0].set_xticklabels(labels= anos, rotation='horizontal')\n",
    "axes[0][0].set_ylabel('Quantidade Ocorrência', fontsize=15)\n",
    "\n",
    "#Gráfico 2 - Linha\n",
    "labelx=[2010, 2012, 2014, 2016, 2018, 2020]\n",
    "valores.loc[anos].plot(ax=axes[0][1],color='salmon', fontsize=15)\n",
    "axes[0][1].set_xlabel('Ano', fontsize=15)\n",
    "axes[0][1].set_ylabel('Quantidade Ocorrência', fontsize=15);\n",
    "\n"
   ]
  },
  {
   "cell_type": "markdown",
   "metadata": {},
   "source": [
    "**Podemos observar com esse dois tipos de gráficos que os anos de 2011 e 2013 foram os que tiveram o maior número de ocorrências na região Centro-Oeste.**"
   ]
  },
  {
   "cell_type": "markdown",
   "metadata": {},
   "source": [
    "### Região Sul"
   ]
  },
  {
   "cell_type": "code",
   "execution_count": 74,
   "metadata": {},
   "outputs": [
    {
     "data": {
      "text/html": [
       "<div>\n",
       "<style scoped>\n",
       "    .dataframe tbody tr th:only-of-type {\n",
       "        vertical-align: middle;\n",
       "    }\n",
       "\n",
       "    .dataframe tbody tr th {\n",
       "        vertical-align: top;\n",
       "    }\n",
       "\n",
       "    .dataframe thead th {\n",
       "        text-align: right;\n",
       "    }\n",
       "</style>\n",
       "<table border=\"1\" class=\"dataframe\">\n",
       "  <thead>\n",
       "    <tr style=\"text-align: right;\">\n",
       "      <th></th>\n",
       "      <th>codigo_ocorrencia</th>\n",
       "      <th>codigo_ocorrencia2</th>\n",
       "      <th>ocorrencia_classificacao</th>\n",
       "      <th>ocorrencia_cidade</th>\n",
       "      <th>ocorrencia_uf</th>\n",
       "      <th>ocorrencia_aerodromo</th>\n",
       "      <th>ocorrencia_dia</th>\n",
       "      <th>ocorrencia_hora</th>\n",
       "      <th>total_recomendacoes</th>\n",
       "    </tr>\n",
       "  </thead>\n",
       "  <tbody>\n",
       "    <tr>\n",
       "      <th>4</th>\n",
       "      <td>40324</td>\n",
       "      <td>40324</td>\n",
       "      <td>INCIDENTE</td>\n",
       "      <td>PELOTAS</td>\n",
       "      <td>RS</td>\n",
       "      <td>SBPK</td>\n",
       "      <td>2010-01-05</td>\n",
       "      <td>19:25:00</td>\n",
       "      <td>0</td>\n",
       "    </tr>\n",
       "    <tr>\n",
       "      <th>8</th>\n",
       "      <td>39156</td>\n",
       "      <td>39156</td>\n",
       "      <td>INCIDENTE GRAVE</td>\n",
       "      <td>CASCAVEL</td>\n",
       "      <td>PR</td>\n",
       "      <td>SBCA</td>\n",
       "      <td>2010-01-10</td>\n",
       "      <td>23:15:00</td>\n",
       "      <td>2</td>\n",
       "    </tr>\n",
       "    <tr>\n",
       "      <th>10</th>\n",
       "      <td>39789</td>\n",
       "      <td>39789</td>\n",
       "      <td>INCIDENTE</td>\n",
       "      <td>SÃO PEDRO DO SUL</td>\n",
       "      <td>RS</td>\n",
       "      <td>&lt;NA&gt;</td>\n",
       "      <td>2010-01-10</td>\n",
       "      <td>21:30:00</td>\n",
       "      <td>0</td>\n",
       "    </tr>\n",
       "    <tr>\n",
       "      <th>21</th>\n",
       "      <td>39320</td>\n",
       "      <td>39320</td>\n",
       "      <td>ACIDENTE</td>\n",
       "      <td>FAROL</td>\n",
       "      <td>PR</td>\n",
       "      <td>&lt;NA&gt;</td>\n",
       "      <td>2010-01-19</td>\n",
       "      <td>18:30:00</td>\n",
       "      <td>4</td>\n",
       "    </tr>\n",
       "    <tr>\n",
       "      <th>22</th>\n",
       "      <td>39851</td>\n",
       "      <td>39851</td>\n",
       "      <td>INCIDENTE</td>\n",
       "      <td>PASSO FUNDO</td>\n",
       "      <td>RS</td>\n",
       "      <td>SBPF</td>\n",
       "      <td>2010-01-19</td>\n",
       "      <td>03:00:00</td>\n",
       "      <td>0</td>\n",
       "    </tr>\n",
       "  </tbody>\n",
       "</table>\n",
       "</div>"
      ],
      "text/plain": [
       "    codigo_ocorrencia  codigo_ocorrencia2 ocorrencia_classificacao  \\\n",
       "4               40324               40324                INCIDENTE   \n",
       "8               39156               39156          INCIDENTE GRAVE   \n",
       "10              39789               39789                INCIDENTE   \n",
       "21              39320               39320                 ACIDENTE   \n",
       "22              39851               39851                INCIDENTE   \n",
       "\n",
       "   ocorrencia_cidade ocorrencia_uf ocorrencia_aerodromo ocorrencia_dia  \\\n",
       "4            PELOTAS            RS                 SBPK     2010-01-05   \n",
       "8           CASCAVEL            PR                 SBCA     2010-01-10   \n",
       "10  SÃO PEDRO DO SUL            RS                 <NA>     2010-01-10   \n",
       "21             FAROL            PR                 <NA>     2010-01-19   \n",
       "22       PASSO FUNDO            RS                 SBPF     2010-01-19   \n",
       "\n",
       "   ocorrencia_hora  total_recomendacoes  \n",
       "4         19:25:00                    0  \n",
       "8         23:15:00                    2  \n",
       "10        21:30:00                    0  \n",
       "21        18:30:00                    4  \n",
       "22        03:00:00                    0  "
      ]
     },
     "execution_count": 74,
     "metadata": {},
     "output_type": "execute_result"
    }
   ],
   "source": [
    "df_sul.head()"
   ]
  },
  {
   "cell_type": "code",
   "execution_count": 75,
   "metadata": {},
   "outputs": [
    {
     "name": "stdout",
     "output_type": "stream",
     "text": [
      "<class 'pandas.core.frame.DataFrame'>\n",
      "Int64Index: 1026 entries, 4 to 5745\n",
      "Data columns (total 9 columns):\n",
      " #   Column                    Non-Null Count  Dtype         \n",
      "---  ------                    --------------  -----         \n",
      " 0   codigo_ocorrencia         1026 non-null   int64         \n",
      " 1   codigo_ocorrencia2        1026 non-null   int64         \n",
      " 2   ocorrencia_classificacao  1026 non-null   object        \n",
      " 3   ocorrencia_cidade         1026 non-null   object        \n",
      " 4   ocorrencia_uf             1026 non-null   object        \n",
      " 5   ocorrencia_aerodromo      615 non-null    object        \n",
      " 6   ocorrencia_dia            1026 non-null   datetime64[ns]\n",
      " 7   ocorrencia_hora           1026 non-null   object        \n",
      " 8   total_recomendacoes       1026 non-null   int64         \n",
      "dtypes: datetime64[ns](1), int64(3), object(5)\n",
      "memory usage: 80.2+ KB\n"
     ]
    }
   ],
   "source": [
    "df_sul.info()"
   ]
  },
  {
   "cell_type": "code",
   "execution_count": 76,
   "metadata": {},
   "outputs": [
    {
     "data": {
      "text/plain": [
       "PR    485\n",
       "RS    352\n",
       "SC    189\n",
       "Name: ocorrencia_uf, dtype: int64"
      ]
     },
     "execution_count": 76,
     "metadata": {},
     "output_type": "execute_result"
    }
   ],
   "source": [
    "# número de ocorrências em cada estado do Sul\n",
    "df_sul['ocorrencia_uf'].value_counts()"
   ]
  },
  {
   "cell_type": "code",
   "execution_count": 77,
   "metadata": {},
   "outputs": [
    {
     "data": {
      "image/png": "[encoded data removed]",
      "text/plain": [
       "<Figure size 576x396 with 1 Axes>"
      ]
     },
     "metadata": {},
     "output_type": "display_data"
    }
   ],
   "source": [
    "# Gráfico de barras da quantidade de ocorrências por estados da região sul\n",
    "df_sul['ocorrencia_uf'].value_counts().plot.bar(color='salmon', fontsize=15);\n",
    "plt.title('Ocorrências por Estado - Sul',fontsize=20)\n",
    "plt.xlabel('Estados', fontsize=15)\n",
    "plt.xticks(rotation='horizontal', fontweight='bold')\n",
    "plt.ylabel('Quantidade Ocorrência', fontsize=15);"
   ]
  },
  {
   "cell_type": "markdown",
   "metadata": {},
   "source": [
    "**Paraná é o estados da região sul com maios incidentes.**"
   ]
  },
  {
   "cell_type": "code",
   "execution_count": 78,
   "metadata": {},
   "outputs": [
    {
     "name": "stdout",
     "output_type": "stream",
     "text": [
      "1026\n",
      "{'PR': 485, 'RS': 352, 'SC': 189}\n"
     ]
    }
   ],
   "source": [
    "# Visualização dos dados em forma de porcentagem\n",
    "\n",
    "#primeiro vamos guardar o total de valores em uma variável - total\n",
    "total = df_sul['ocorrencia_uf'].count()\n",
    "\n",
    "# Agora vamos separar em um dicionário os valores de ocorrências individuais de cada estado \n",
    "estados = dict(df_sul['ocorrencia_uf'].value_counts())\n",
    "\n",
    "print(total)\n",
    "print(estados)"
   ]
  },
  {
   "cell_type": "code",
   "execution_count": 79,
   "metadata": {},
   "outputs": [
    {
     "name": "stdout",
     "output_type": "stream",
     "text": [
      "47.27\n",
      "34.31\n",
      "18.42\n",
      "Porcentagens: [47.27, 34.31, 18.42]\n"
     ]
    }
   ],
   "source": [
    "# Para cada valor de estado no dicionário estados, está sendo calculada a porcentagem que esse valor representa no total\n",
    "porcentagens = []\n",
    "for values in estados:\n",
    "    percen = (estados[values]/ total) * 100\n",
    "    porcentagens.append(percen.round(2))\n",
    "    print(percen.round(2))\n",
    "# as porcentagens foram armazenadas em uma lista de nome, porcentagens\n",
    "print('Porcentagens:',porcentagens)"
   ]
  },
  {
   "cell_type": "code",
   "execution_count": 80,
   "metadata": {},
   "outputs": [
    {
     "data": {
      "image/png": "[encoded data removed]",
      "text/plain": [
       "<Figure size 576x396 with 1 Axes>"
      ]
     },
     "metadata": {},
     "output_type": "display_data"
    }
   ],
   "source": [
    "# Gráfico de pizza\n",
    "uf = list(estados.keys())\n",
    "fig = plt.figure()\n",
    "ax = fig.add_axes([0,0,1,1])\n",
    "ax.axis('equal')\n",
    "cores = ['dodgerblue', 'limegreen', 'firebrick']\n",
    "ax.pie(porcentagens, labels = uf, autopct='%1.2f%%', startangle=90, colors=cores, labeldistance=None,\n",
    "       textprops=dict(color=\"w\", fontweight='bold', fontsize=15))\n",
    "      \n",
    "plt.title('Porcentagens de Ocorrências nos Estados do Sul', fontsize=20,  fontweight='bold', loc='center')\n",
    "plt.legend(title='Estados',title_fontsize=15, fontsize=15, bbox_to_anchor=(1.1, 0.9), loc='best')\n",
    "\n",
    "plt.show()"
   ]
  },
  {
   "cell_type": "code",
   "execution_count": 81,
   "metadata": {},
   "outputs": [
    {
     "name": "stderr",
     "output_type": "stream",
     "text": [
      "<ipython-input-81-9449068b5777>:3: SettingWithCopyWarning: \n",
      "A value is trying to be set on a copy of a slice from a DataFrame.\n",
      "Try using .loc[row_indexer,col_indexer] = value instead\n",
      "\n",
      "See the caveats in the documentation: https://pandas.pydata.org/pandas-docs/stable/user_guide/indexing.html#returning-a-view-versus-a-copy\n",
      "  df_sul['Ano'] = df.ocorrencia_dia.dt.year\n"
     ]
    }
   ],
   "source": [
    "# Análise das ocorrências na região sul ao longo dos anos.\n",
    "# Criando coluna Ano para o df_sul\n",
    "df_sul['Ano'] = df.ocorrencia_dia.dt.year"
   ]
  },
  {
   "cell_type": "code",
   "execution_count": 82,
   "metadata": {},
   "outputs": [
    {
     "data": {
      "text/html": [
       "<div>\n",
       "<style scoped>\n",
       "    .dataframe tbody tr th:only-of-type {\n",
       "        vertical-align: middle;\n",
       "    }\n",
       "\n",
       "    .dataframe tbody tr th {\n",
       "        vertical-align: top;\n",
       "    }\n",
       "\n",
       "    .dataframe thead th {\n",
       "        text-align: right;\n",
       "    }\n",
       "</style>\n",
       "<table border=\"1\" class=\"dataframe\">\n",
       "  <thead>\n",
       "    <tr style=\"text-align: right;\">\n",
       "      <th></th>\n",
       "      <th>codigo_ocorrencia</th>\n",
       "      <th>codigo_ocorrencia2</th>\n",
       "      <th>ocorrencia_classificacao</th>\n",
       "      <th>ocorrencia_cidade</th>\n",
       "      <th>ocorrencia_uf</th>\n",
       "      <th>ocorrencia_aerodromo</th>\n",
       "      <th>ocorrencia_dia</th>\n",
       "      <th>ocorrencia_hora</th>\n",
       "      <th>total_recomendacoes</th>\n",
       "      <th>Ano</th>\n",
       "    </tr>\n",
       "  </thead>\n",
       "  <tbody>\n",
       "    <tr>\n",
       "      <th>4</th>\n",
       "      <td>40324</td>\n",
       "      <td>40324</td>\n",
       "      <td>INCIDENTE</td>\n",
       "      <td>PELOTAS</td>\n",
       "      <td>RS</td>\n",
       "      <td>SBPK</td>\n",
       "      <td>2010-01-05</td>\n",
       "      <td>19:25:00</td>\n",
       "      <td>0</td>\n",
       "      <td>2010</td>\n",
       "    </tr>\n",
       "    <tr>\n",
       "      <th>8</th>\n",
       "      <td>39156</td>\n",
       "      <td>39156</td>\n",
       "      <td>INCIDENTE GRAVE</td>\n",
       "      <td>CASCAVEL</td>\n",
       "      <td>PR</td>\n",
       "      <td>SBCA</td>\n",
       "      <td>2010-01-10</td>\n",
       "      <td>23:15:00</td>\n",
       "      <td>2</td>\n",
       "      <td>2010</td>\n",
       "    </tr>\n",
       "    <tr>\n",
       "      <th>10</th>\n",
       "      <td>39789</td>\n",
       "      <td>39789</td>\n",
       "      <td>INCIDENTE</td>\n",
       "      <td>SÃO PEDRO DO SUL</td>\n",
       "      <td>RS</td>\n",
       "      <td>&lt;NA&gt;</td>\n",
       "      <td>2010-01-10</td>\n",
       "      <td>21:30:00</td>\n",
       "      <td>0</td>\n",
       "      <td>2010</td>\n",
       "    </tr>\n",
       "    <tr>\n",
       "      <th>21</th>\n",
       "      <td>39320</td>\n",
       "      <td>39320</td>\n",
       "      <td>ACIDENTE</td>\n",
       "      <td>FAROL</td>\n",
       "      <td>PR</td>\n",
       "      <td>&lt;NA&gt;</td>\n",
       "      <td>2010-01-19</td>\n",
       "      <td>18:30:00</td>\n",
       "      <td>4</td>\n",
       "      <td>2010</td>\n",
       "    </tr>\n",
       "    <tr>\n",
       "      <th>22</th>\n",
       "      <td>39851</td>\n",
       "      <td>39851</td>\n",
       "      <td>INCIDENTE</td>\n",
       "      <td>PASSO FUNDO</td>\n",
       "      <td>RS</td>\n",
       "      <td>SBPF</td>\n",
       "      <td>2010-01-19</td>\n",
       "      <td>03:00:00</td>\n",
       "      <td>0</td>\n",
       "      <td>2010</td>\n",
       "    </tr>\n",
       "  </tbody>\n",
       "</table>\n",
       "</div>"
      ],
      "text/plain": [
       "    codigo_ocorrencia  codigo_ocorrencia2 ocorrencia_classificacao  \\\n",
       "4               40324               40324                INCIDENTE   \n",
       "8               39156               39156          INCIDENTE GRAVE   \n",
       "10              39789               39789                INCIDENTE   \n",
       "21              39320               39320                 ACIDENTE   \n",
       "22              39851               39851                INCIDENTE   \n",
       "\n",
       "   ocorrencia_cidade ocorrencia_uf ocorrencia_aerodromo ocorrencia_dia  \\\n",
       "4            PELOTAS            RS                 SBPK     2010-01-05   \n",
       "8           CASCAVEL            PR                 SBCA     2010-01-10   \n",
       "10  SÃO PEDRO DO SUL            RS                 <NA>     2010-01-10   \n",
       "21             FAROL            PR                 <NA>     2010-01-19   \n",
       "22       PASSO FUNDO            RS                 SBPF     2010-01-19   \n",
       "\n",
       "   ocorrencia_hora  total_recomendacoes   Ano  \n",
       "4         19:25:00                    0  2010  \n",
       "8         23:15:00                    2  2010  \n",
       "10        21:30:00                    0  2010  \n",
       "21        18:30:00                    4  2010  \n",
       "22        03:00:00                    0  2010  "
      ]
     },
     "execution_count": 82,
     "metadata": {},
     "output_type": "execute_result"
    }
   ],
   "source": [
    "df_sul.head()"
   ]
  },
  {
   "cell_type": "code",
   "execution_count": 83,
   "metadata": {},
   "outputs": [
    {
     "data": {
      "text/plain": [
       "2013    114\n",
       "2017    105\n",
       "2014     97\n",
       "2016     97\n",
       "2015     95\n",
       "2012     93\n",
       "2019     93\n",
       "2010     89\n",
       "2020     85\n",
       "2011     84\n",
       "2018     74\n",
       "Name: Ano, dtype: int64"
      ]
     },
     "execution_count": 83,
     "metadata": {},
     "output_type": "execute_result"
    }
   ],
   "source": [
    "# Número de ocorrências da região sul em cada ano.\n",
    "df_sul['Ano'].value_counts().sort_values(ascending=False)"
   ]
  },
  {
   "cell_type": "code",
   "execution_count": 84,
   "metadata": {},
   "outputs": [],
   "source": [
    "valores = df_sul['Ano'].value_counts()\n",
    "anos=[2010, 2011, 2012, 2013, 2014, 2015, 2016, 2017, 2018, 2019, 2020]"
   ]
  },
  {
   "cell_type": "code",
   "execution_count": 85,
   "metadata": {},
   "outputs": [
    {
     "data": {
      "image/png": "[encoded data removed]",
      "text/plain": [
       "<Figure size 1440x576 with 2 Axes>"
      ]
     },
     "metadata": {},
     "output_type": "display_data"
    }
   ],
   "source": [
    "# ocorrencias na região sul ao longo dos anos\n",
    "fig, axes = plt.subplots(nrows=1, ncols=2, squeeze = False, figsize=(20,8))\n",
    "fig.subplots_adjust(hspace=0.8, wspace=0.5)\n",
    "\n",
    "#Gráfico 1 - Barra\n",
    "valores.loc[anos].plot.bar(ax=axes[0][0], color='salmon', fontsize=15)\n",
    "axes[0][0].set_title('Ocorrências por Ano na região Sul',fontsize=20, position=(1.2, 1.1))\n",
    "axes[0][0].set_xlabel('Ano', fontsize=15)\n",
    "axes[0][0].set_xticklabels(labels= anos, rotation='horizontal')\n",
    "axes[0][0].set_ylabel('Quantidade Ocorrência', fontsize=15)\n",
    "\n",
    "#Gráfico 2 - Linha\n",
    "labelx=[2010, 2012, 2014, 2016, 2018, 2020]\n",
    "valores.loc[anos].plot(ax=axes[0][1],color='salmon', fontsize=15)\n",
    "axes[0][1].set_xlabel('Ano', fontsize=15)\n",
    "axes[0][1].set_ylabel('Quantidade Ocorrência', fontsize=15);\n",
    "\n"
   ]
  },
  {
   "cell_type": "markdown",
   "metadata": {},
   "source": [
    "**Podemos observar com esse dois tipos de gráficos que os anos de 2013 e 2017 foram os que tiveram o maior número de ocorrências na região Sul.**"
   ]
  },
  {
   "cell_type": "markdown",
   "metadata": {},
   "source": [
    "### Região Norte"
   ]
  },
  {
   "cell_type": "code",
   "execution_count": 86,
   "metadata": {},
   "outputs": [
    {
     "data": {
      "text/html": [
       "<div>\n",
       "<style scoped>\n",
       "    .dataframe tbody tr th:only-of-type {\n",
       "        vertical-align: middle;\n",
       "    }\n",
       "\n",
       "    .dataframe tbody tr th {\n",
       "        vertical-align: top;\n",
       "    }\n",
       "\n",
       "    .dataframe thead th {\n",
       "        text-align: right;\n",
       "    }\n",
       "</style>\n",
       "<table border=\"1\" class=\"dataframe\">\n",
       "  <thead>\n",
       "    <tr style=\"text-align: right;\">\n",
       "      <th></th>\n",
       "      <th>codigo_ocorrencia</th>\n",
       "      <th>codigo_ocorrencia2</th>\n",
       "      <th>ocorrencia_classificacao</th>\n",
       "      <th>ocorrencia_cidade</th>\n",
       "      <th>ocorrencia_uf</th>\n",
       "      <th>ocorrencia_aerodromo</th>\n",
       "      <th>ocorrencia_dia</th>\n",
       "      <th>ocorrencia_hora</th>\n",
       "      <th>total_recomendacoes</th>\n",
       "    </tr>\n",
       "  </thead>\n",
       "  <tbody>\n",
       "    <tr>\n",
       "      <th>1</th>\n",
       "      <td>40349</td>\n",
       "      <td>40349</td>\n",
       "      <td>INCIDENTE</td>\n",
       "      <td>BELÉM</td>\n",
       "      <td>PA</td>\n",
       "      <td>SBBE</td>\n",
       "      <td>2010-01-03</td>\n",
       "      <td>11:05:00</td>\n",
       "      <td>0</td>\n",
       "    </tr>\n",
       "    <tr>\n",
       "      <th>6</th>\n",
       "      <td>40215</td>\n",
       "      <td>40215</td>\n",
       "      <td>INCIDENTE</td>\n",
       "      <td>COARI</td>\n",
       "      <td>AM</td>\n",
       "      <td>SBUY</td>\n",
       "      <td>2010-01-07</td>\n",
       "      <td>18:40:00</td>\n",
       "      <td>0</td>\n",
       "    </tr>\n",
       "    <tr>\n",
       "      <th>7</th>\n",
       "      <td>39707</td>\n",
       "      <td>39707</td>\n",
       "      <td>INCIDENTE GRAVE</td>\n",
       "      <td>CANUTAMA</td>\n",
       "      <td>AM</td>\n",
       "      <td>&lt;NA&gt;</td>\n",
       "      <td>2010-01-09</td>\n",
       "      <td>12:30:00</td>\n",
       "      <td>3</td>\n",
       "    </tr>\n",
       "    <tr>\n",
       "      <th>14</th>\n",
       "      <td>40107</td>\n",
       "      <td>40107</td>\n",
       "      <td>ACIDENTE</td>\n",
       "      <td>GURUPÁ</td>\n",
       "      <td>PA</td>\n",
       "      <td>SNGU</td>\n",
       "      <td>2010-01-12</td>\n",
       "      <td>14:30:00</td>\n",
       "      <td>0</td>\n",
       "    </tr>\n",
       "    <tr>\n",
       "      <th>15</th>\n",
       "      <td>39315</td>\n",
       "      <td>39315</td>\n",
       "      <td>ACIDENTE</td>\n",
       "      <td>CANUTAMA</td>\n",
       "      <td>AM</td>\n",
       "      <td>&lt;NA&gt;</td>\n",
       "      <td>2010-01-15</td>\n",
       "      <td>21:22:00</td>\n",
       "      <td>0</td>\n",
       "    </tr>\n",
       "  </tbody>\n",
       "</table>\n",
       "</div>"
      ],
      "text/plain": [
       "    codigo_ocorrencia  codigo_ocorrencia2 ocorrencia_classificacao  \\\n",
       "1               40349               40349                INCIDENTE   \n",
       "6               40215               40215                INCIDENTE   \n",
       "7               39707               39707          INCIDENTE GRAVE   \n",
       "14              40107               40107                 ACIDENTE   \n",
       "15              39315               39315                 ACIDENTE   \n",
       "\n",
       "   ocorrencia_cidade ocorrencia_uf ocorrencia_aerodromo ocorrencia_dia  \\\n",
       "1              BELÉM            PA                 SBBE     2010-01-03   \n",
       "6              COARI            AM                 SBUY     2010-01-07   \n",
       "7           CANUTAMA            AM                 <NA>     2010-01-09   \n",
       "14            GURUPÁ            PA                 SNGU     2010-01-12   \n",
       "15          CANUTAMA            AM                 <NA>     2010-01-15   \n",
       "\n",
       "   ocorrencia_hora  total_recomendacoes  \n",
       "1         11:05:00                    0  \n",
       "6         18:40:00                    0  \n",
       "7         12:30:00                    3  \n",
       "14        14:30:00                    0  \n",
       "15        21:22:00                    0  "
      ]
     },
     "execution_count": 86,
     "metadata": {},
     "output_type": "execute_result"
    }
   ],
   "source": [
    "df_norte.head()"
   ]
  },
  {
   "cell_type": "code",
   "execution_count": 87,
   "metadata": {},
   "outputs": [
    {
     "name": "stdout",
     "output_type": "stream",
     "text": [
      "<class 'pandas.core.frame.DataFrame'>\n",
      "Int64Index: 737 entries, 1 to 5748\n",
      "Data columns (total 9 columns):\n",
      " #   Column                    Non-Null Count  Dtype         \n",
      "---  ------                    --------------  -----         \n",
      " 0   codigo_ocorrencia         737 non-null    int64         \n",
      " 1   codigo_ocorrencia2        737 non-null    int64         \n",
      " 2   ocorrencia_classificacao  737 non-null    object        \n",
      " 3   ocorrencia_cidade         737 non-null    object        \n",
      " 4   ocorrencia_uf             737 non-null    object        \n",
      " 5   ocorrencia_aerodromo      404 non-null    object        \n",
      " 6   ocorrencia_dia            737 non-null    datetime64[ns]\n",
      " 7   ocorrencia_hora           737 non-null    object        \n",
      " 8   total_recomendacoes       737 non-null    int64         \n",
      "dtypes: datetime64[ns](1), int64(3), object(5)\n",
      "memory usage: 57.6+ KB\n"
     ]
    }
   ],
   "source": [
    "df_norte.info()"
   ]
  },
  {
   "cell_type": "code",
   "execution_count": 88,
   "metadata": {},
   "outputs": [
    {
     "data": {
      "text/plain": [
       "PA    287\n",
       "AM    233\n",
       "AC     58\n",
       "RR     55\n",
       "TO     54\n",
       "RO     37\n",
       "AP     13\n",
       "Name: ocorrencia_uf, dtype: int64"
      ]
     },
     "execution_count": 88,
     "metadata": {},
     "output_type": "execute_result"
    }
   ],
   "source": [
    "# Número de ocorrências em cada estado da região Norte\n",
    "df_norte['ocorrencia_uf'].value_counts()"
   ]
  },
  {
   "cell_type": "code",
   "execution_count": 89,
   "metadata": {},
   "outputs": [
    {
     "data": {
      "image/png": "[encoded data removed]",
      "text/plain": [
       "<Figure size 576x396 with 1 Axes>"
      ]
     },
     "metadata": {},
     "output_type": "display_data"
    }
   ],
   "source": [
    "# Gráfico de barras da quantidade de ocorrências por estados da região norte\n",
    "df_norte['ocorrencia_uf'].value_counts().plot.bar(color='salmon', fontsize=15);\n",
    "plt.title('Ocorrências por Estado - Norte',fontsize=20)\n",
    "plt.xlabel('Estados', fontsize=15)\n",
    "plt.xticks(rotation='horizontal', fontweight='bold')\n",
    "plt.ylabel('Quantidade Ocorrência', fontsize=15);"
   ]
  },
  {
   "cell_type": "markdown",
   "metadata": {},
   "source": [
    "**Os estados do Pará e Amazonas foram os que tiveram o maior número de ocorrências na região Norte.**"
   ]
  },
  {
   "cell_type": "code",
   "execution_count": 90,
   "metadata": {},
   "outputs": [
    {
     "name": "stdout",
     "output_type": "stream",
     "text": [
      "737\n",
      "{'PA': 287, 'AM': 233, 'AC': 58, 'RR': 55, 'TO': 54, 'RO': 37, 'AP': 13}\n"
     ]
    }
   ],
   "source": [
    "# Visualização dos resultados em porcentagem\n",
    "\n",
    "#primeiro vamos guardar o total de valores em uma variável - total\n",
    "total = df_norte['ocorrencia_uf'].count()\n",
    "\n",
    "# Agora vamos separar em um dicionário os valores de ocorrências individuais de cada estado \n",
    "estados = dict(df_norte['ocorrencia_uf'].value_counts())\n",
    "\n",
    "print(total)\n",
    "print(estados)"
   ]
  },
  {
   "cell_type": "code",
   "execution_count": 91,
   "metadata": {},
   "outputs": [
    {
     "name": "stdout",
     "output_type": "stream",
     "text": [
      "38.94\n",
      "31.61\n",
      "7.87\n",
      "7.46\n",
      "7.33\n",
      "5.02\n",
      "1.76\n",
      "Porcentagens: [38.94, 31.61, 7.87, 7.46, 7.33, 5.02, 1.76]\n"
     ]
    }
   ],
   "source": [
    "# Para cada valor de estado no dicionário estados, está sendo calculada a porcentagem que esse valor representa no total\n",
    "porcentagens = []\n",
    "for values in estados:\n",
    "    percen = (estados[values]/ total) * 100\n",
    "    porcentagens.append(percen.round(2))\n",
    "    print(percen.round(2))\n",
    "# as porcentagens foram armazenadas em uma lista de nome, porcentagens\n",
    "print('Porcentagens:',porcentagens)"
   ]
  },
  {
   "cell_type": "code",
   "execution_count": 92,
   "metadata": {},
   "outputs": [
    {
     "data": {
      "image/png": "[encoded data removed]",
      "text/plain": [
       "<Figure size 576x396 with 1 Axes>"
      ]
     },
     "metadata": {},
     "output_type": "display_data"
    }
   ],
   "source": [
    "# Gráfico de pizza\n",
    "uf = list(estados.keys())\n",
    "fig = plt.figure()\n",
    "ax = fig.add_axes([0,0,1,1])\n",
    "ax.axis('equal')\n",
    "cores = ['dodgerblue', 'limegreen', 'firebrick', 'dimgrey', 'darkviolet', 'yellow','chocolate']\n",
    "ax.pie(porcentagens, labels = uf, autopct='%1.2f%%', pctdistance=1.15, startangle=90, colors=cores, labeldistance=None,\n",
    "       textprops=dict(color=\"black\", fontweight='bold', fontsize=15, horizontalalignment=\"center\", rotation=45))\n",
    "      \n",
    "plt.title('Porcentagens de Ocorrências nos Estados do Norte', fontsize=20,  fontweight='bold', loc='center', position=(0.5, 1.1))\n",
    "plt.legend(title='Estados',title_fontsize=15, fontsize=15, bbox_to_anchor=(1.1, 1.0), loc='upper right')\n",
    "\n",
    "plt.show()"
   ]
  },
  {
   "cell_type": "code",
   "execution_count": 93,
   "metadata": {},
   "outputs": [
    {
     "name": "stderr",
     "output_type": "stream",
     "text": [
      "<ipython-input-93-6a67ad360ec3>:3: SettingWithCopyWarning: \n",
      "A value is trying to be set on a copy of a slice from a DataFrame.\n",
      "Try using .loc[row_indexer,col_indexer] = value instead\n",
      "\n",
      "See the caveats in the documentation: https://pandas.pydata.org/pandas-docs/stable/user_guide/indexing.html#returning-a-view-versus-a-copy\n",
      "  df_norte['Ano'] = df.ocorrencia_dia.dt.year\n"
     ]
    }
   ],
   "source": [
    "#Análise do número de ocorrências na região Norte ao longo dos anos.\n",
    "# Criando a coluna Ano para o df_norte\n",
    "df_norte['Ano'] = df.ocorrencia_dia.dt.year"
   ]
  },
  {
   "cell_type": "code",
   "execution_count": 94,
   "metadata": {},
   "outputs": [
    {
     "data": {
      "text/html": [
       "<div>\n",
       "<style scoped>\n",
       "    .dataframe tbody tr th:only-of-type {\n",
       "        vertical-align: middle;\n",
       "    }\n",
       "\n",
       "    .dataframe tbody tr th {\n",
       "        vertical-align: top;\n",
       "    }\n",
       "\n",
       "    .dataframe thead th {\n",
       "        text-align: right;\n",
       "    }\n",
       "</style>\n",
       "<table border=\"1\" class=\"dataframe\">\n",
       "  <thead>\n",
       "    <tr style=\"text-align: right;\">\n",
       "      <th></th>\n",
       "      <th>codigo_ocorrencia</th>\n",
       "      <th>codigo_ocorrencia2</th>\n",
       "      <th>ocorrencia_classificacao</th>\n",
       "      <th>ocorrencia_cidade</th>\n",
       "      <th>ocorrencia_uf</th>\n",
       "      <th>ocorrencia_aerodromo</th>\n",
       "      <th>ocorrencia_dia</th>\n",
       "      <th>ocorrencia_hora</th>\n",
       "      <th>total_recomendacoes</th>\n",
       "      <th>Ano</th>\n",
       "    </tr>\n",
       "  </thead>\n",
       "  <tbody>\n",
       "    <tr>\n",
       "      <th>1</th>\n",
       "      <td>40349</td>\n",
       "      <td>40349</td>\n",
       "      <td>INCIDENTE</td>\n",
       "      <td>BELÉM</td>\n",
       "      <td>PA</td>\n",
       "      <td>SBBE</td>\n",
       "      <td>2010-01-03</td>\n",
       "      <td>11:05:00</td>\n",
       "      <td>0</td>\n",
       "      <td>2010</td>\n",
       "    </tr>\n",
       "    <tr>\n",
       "      <th>6</th>\n",
       "      <td>40215</td>\n",
       "      <td>40215</td>\n",
       "      <td>INCIDENTE</td>\n",
       "      <td>COARI</td>\n",
       "      <td>AM</td>\n",
       "      <td>SBUY</td>\n",
       "      <td>2010-01-07</td>\n",
       "      <td>18:40:00</td>\n",
       "      <td>0</td>\n",
       "      <td>2010</td>\n",
       "    </tr>\n",
       "    <tr>\n",
       "      <th>7</th>\n",
       "      <td>39707</td>\n",
       "      <td>39707</td>\n",
       "      <td>INCIDENTE GRAVE</td>\n",
       "      <td>CANUTAMA</td>\n",
       "      <td>AM</td>\n",
       "      <td>&lt;NA&gt;</td>\n",
       "      <td>2010-01-09</td>\n",
       "      <td>12:30:00</td>\n",
       "      <td>3</td>\n",
       "      <td>2010</td>\n",
       "    </tr>\n",
       "    <tr>\n",
       "      <th>14</th>\n",
       "      <td>40107</td>\n",
       "      <td>40107</td>\n",
       "      <td>ACIDENTE</td>\n",
       "      <td>GURUPÁ</td>\n",
       "      <td>PA</td>\n",
       "      <td>SNGU</td>\n",
       "      <td>2010-01-12</td>\n",
       "      <td>14:30:00</td>\n",
       "      <td>0</td>\n",
       "      <td>2010</td>\n",
       "    </tr>\n",
       "    <tr>\n",
       "      <th>15</th>\n",
       "      <td>39315</td>\n",
       "      <td>39315</td>\n",
       "      <td>ACIDENTE</td>\n",
       "      <td>CANUTAMA</td>\n",
       "      <td>AM</td>\n",
       "      <td>&lt;NA&gt;</td>\n",
       "      <td>2010-01-15</td>\n",
       "      <td>21:22:00</td>\n",
       "      <td>0</td>\n",
       "      <td>2010</td>\n",
       "    </tr>\n",
       "  </tbody>\n",
       "</table>\n",
       "</div>"
      ],
      "text/plain": [
       "    codigo_ocorrencia  codigo_ocorrencia2 ocorrencia_classificacao  \\\n",
       "1               40349               40349                INCIDENTE   \n",
       "6               40215               40215                INCIDENTE   \n",
       "7               39707               39707          INCIDENTE GRAVE   \n",
       "14              40107               40107                 ACIDENTE   \n",
       "15              39315               39315                 ACIDENTE   \n",
       "\n",
       "   ocorrencia_cidade ocorrencia_uf ocorrencia_aerodromo ocorrencia_dia  \\\n",
       "1              BELÉM            PA                 SBBE     2010-01-03   \n",
       "6              COARI            AM                 SBUY     2010-01-07   \n",
       "7           CANUTAMA            AM                 <NA>     2010-01-09   \n",
       "14            GURUPÁ            PA                 SNGU     2010-01-12   \n",
       "15          CANUTAMA            AM                 <NA>     2010-01-15   \n",
       "\n",
       "   ocorrencia_hora  total_recomendacoes   Ano  \n",
       "1         11:05:00                    0  2010  \n",
       "6         18:40:00                    0  2010  \n",
       "7         12:30:00                    3  2010  \n",
       "14        14:30:00                    0  2010  \n",
       "15        21:22:00                    0  2010  "
      ]
     },
     "execution_count": 94,
     "metadata": {},
     "output_type": "execute_result"
    }
   ],
   "source": [
    "df_norte.head()"
   ]
  },
  {
   "cell_type": "code",
   "execution_count": 95,
   "metadata": {},
   "outputs": [
    {
     "data": {
      "text/plain": [
       "2014    93\n",
       "2012    85\n",
       "2010    75\n",
       "2013    75\n",
       "2011    74\n",
       "2020    71\n",
       "2019    62\n",
       "2017    58\n",
       "2015    52\n",
       "2018    50\n",
       "2016    42\n",
       "Name: Ano, dtype: int64"
      ]
     },
     "execution_count": 95,
     "metadata": {},
     "output_type": "execute_result"
    }
   ],
   "source": [
    "# Ocorrências em cada ano\n",
    "df_norte['Ano'].value_counts().sort_values(ascending=False)"
   ]
  },
  {
   "cell_type": "code",
   "execution_count": 96,
   "metadata": {},
   "outputs": [],
   "source": [
    "valores = df_norte['Ano'].value_counts()\n",
    "anos=[2010, 2011, 2012, 2013, 2014, 2015, 2016, 2017, 2018, 2019, 2020]"
   ]
  },
  {
   "cell_type": "code",
   "execution_count": 97,
   "metadata": {},
   "outputs": [
    {
     "data": {
      "image/png": "[encoded data removed]",
      "text/plain": [
       "<Figure size 1440x576 with 2 Axes>"
      ]
     },
     "metadata": {},
     "output_type": "display_data"
    }
   ],
   "source": [
    "# ocorrencias na região Norte ao longo dos anos\n",
    "fig, axes = plt.subplots(nrows=1, ncols=2, squeeze = False, figsize=(20,8))\n",
    "fig.subplots_adjust(hspace=0.8, wspace=0.5)\n",
    "\n",
    "#Gráfico 1 - Barra\n",
    "valores.loc[anos].plot.bar(ax=axes[0][0], color='salmon', fontsize=15)\n",
    "axes[0][0].set_title('Ocorrências por Ano na região Norte',fontsize=20, position=(1.2, 1.1))\n",
    "axes[0][0].set_xlabel('Ano', fontsize=15)\n",
    "axes[0][0].set_xticklabels(labels= anos, rotation='horizontal')\n",
    "axes[0][0].set_ylabel('Quantidade Ocorrência', fontsize=15)\n",
    "\n",
    "#Gráfico 2 - Linha\n",
    "labelx=[2010, 2012, 2014, 2016, 2018, 2020]\n",
    "valores.loc[anos].plot(ax=axes[0][1],color='salmon', fontsize=15)\n",
    "axes[0][1].set_xlabel('Ano', fontsize=15)\n",
    "axes[0][1].set_ylabel('Quantidade Ocorrência', fontsize=15);\n",
    "\n"
   ]
  },
  {
   "cell_type": "markdown",
   "metadata": {},
   "source": [
    "**Podemos observar com esse dois tipos de gráficos que os anos de 2012 e 2014 foram os que tiveram o maior número de ocorrências na região Norte.**"
   ]
  },
  {
   "cell_type": "markdown",
   "metadata": {},
   "source": [
    "### Considerações Finais\n"
   ]
  },
  {
   "cell_type": "markdown",
   "metadata": {},
   "source": [
    "Para finalizar esse projeto, vou agora apresentar um resumo geral dos resultados que foram obtidos durante a análise exploratória dos dados.\n",
    "\n",
    "* Com base na classificação da ocorrência, incidente, acidente e incidente grave, o tipo mais relatado nos últimos 10 anos foi a ocorrência classificada como **INCIDENTE.**\n",
    "\n",
    "* Das 5 regiões do Brasil, a região **sudeste** foi a que mais teve ocorrências em 10 anos, seguida da região sul, centro-oeste, norte e por último com o menor número de ocorrências em 10 anos, a região nordeste. \n",
    "\n",
    "* Na região **sudeste**, os anos de **2012 e 2013** foram os que mais tiveram ocorrências. **São Paulo** é o estado da região sudeste com maior número de ocorrências.\n",
    "\n",
    "* A região sudeste foi a que teve maior número de ocorrências classificadas como **INCIDENTE GRAVE** nos últimos 10 anos. \n",
    "\n",
    "* Na região **Nordeste**, a **Bahia** foi o estado que teve maior número de ocorrências, seguido de **Pernambuco e Ceará**. Os anos de **2010, 2012 e 2014** foram os que tiveram as maiores quantidades de ocorrências.\n",
    "\n",
    "* Na região **Centro-Oeste**, **Goiás** foi o estado que teve maior número de ocorrências, seguido de **Mato Grosso**. Os anos de **2011 e 2013** foram os que tiveram as maiores quantidades de ocorrências.\n",
    "\n",
    "* Na região **Sul**, o **Paraná** foi o estado que teve maior número de ocorrências. Os anos de **2013 e 2017** foram os que tiveram as maiores quantidades de ocorrências.\n",
    "\n",
    "* Na região **Norte**, o **Pará** foi o estado que teve maior número de ocorrências, seguido do **Amazonas**. Os anos de **2012 e 2014** foram os que tiveram as maiores quantidades de ocorrências.\n"
   ]
  }
 ],
 "metadata": {
  "kernelspec": {
   "display_name": "Python 3",
   "language": "python",
   "name": "python3"
  },
  "language_info": {
   "codemirror_mode": {
    "name": "ipython",
    "version": 3
   },
   "file_extension": ".py",
   "mimetype": "text/x-python",
   "name": "python",
   "nbconvert_exporter": "python",
   "pygments_lexer": "ipython3",
   "version": "3.8.3"
  }
 },
 "nbformat": 4,
 "nbformat_minor": 4
}
